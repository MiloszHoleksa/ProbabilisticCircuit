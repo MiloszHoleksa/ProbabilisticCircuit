{
 "cells": [
  {
   "cell_type": "markdown",
   "id": "fd615175",
   "metadata": {},
   "source": [
    "# Data imports\n"
   ]
  },
  {
   "cell_type": "code",
   "execution_count": 1,
   "id": "a496382e-a10b-4da8-bfb1-35f6789ccb51",
   "metadata": {},
   "outputs": [
    {
     "data": {
      "text/plain": [
       "<torch._C.Generator at 0x1ccea8f17f0>"
      ]
     },
     "execution_count": 1,
     "metadata": {},
     "output_type": "execute_result"
    }
   ],
   "source": [
    "import TNSPC as tp\n",
    "import torch\n",
    "\n",
    "device = torch.device('cpu')\n",
    "#to use cude need to install the package independently\n",
    "#device = torch.device('cuda')\n",
    "torch.manual_seed(0)"
   ]
  },
  {
   "cell_type": "markdown",
   "id": "ec35ed74-d2b4-4f12-a90c-1c9968f395c2",
   "metadata": {},
   "source": [
    "### Importing mnist and saving to arff file"
   ]
  },
  {
   "cell_type": "code",
   "execution_count": 2,
   "id": "2639159c-4142-40b8-bdd6-0c7a5cd5501f",
   "metadata": {},
   "outputs": [
    {
     "name": "stdout",
     "output_type": "stream",
     "text": [
      "Loading MNIST dataset...\n",
      "Converting dataset to DataFrame...\n",
      "ARFF file saved to mnist_2.arff\n"
     ]
    }
   ],
   "source": [
    "import numpy as np\n",
    "import pandas as pd\n",
    "from sklearn.datasets import fetch_openml\n",
    "\n",
    "# Step 1: Load MNIST dataset\n",
    "print(\"Loading MNIST dataset...\")\n",
    "mnist = fetch_openml('mnist_784', version=1)\n",
    "X = mnist.data[:10000]\n",
    "X = X / 255.0\n",
    "y = mnist.target[:10000].astype(int).to_numpy()\n",
    "\n",
    "# Step 2: Convert to Pandas DataFrame\n",
    "print(\"Converting dataset to DataFrame...\")\n",
    "df = pd.DataFrame(X, columns=[f'pixel{i}' for i in range(1, X.shape[1]+2)])\n",
    "#df['class'] = y  # Append labels as the last column\n",
    "\n",
    "\n",
    "# Step 3: Write to ARFF file manually\n",
    "def write_arff(df, filename, relation_name, class_labels):\n",
    "    with open(filename, 'w') as f:\n",
    "        # Write relation name\n",
    "        f.write(f\"@relation {relation_name}\\n\\n\")\n",
    "        \n",
    "        # Write attributes\n",
    "        for column in df.columns[:-1]:\n",
    "            f.write(f\"@attribute {column} numeric\\n\")\n",
    "        f.write(f\"@attribute class_labels {{{','.join(map(str, class_labels))}}}\\n\\n\")\n",
    "        # Write data\n",
    "        f.write(\"@data\\n\")\n",
    "        for row in df.values:\n",
    "            f.write(','.join(map(str, row)) + '\\n')\n",
    "\n",
    "output_file = 'mnist_2.arff'\n",
    "write_arff(df, output_file, relation_name='mnist', class_labels=range(10))\n",
    "\n",
    "print(f\"ARFF file saved to {output_file}\")\n"
   ]
  },
  {
   "cell_type": "markdown",
   "id": "0487766c-5de4-4b50-bf61-b053e47c4118",
   "metadata": {},
   "source": [
    "### Loading in the data from the arff file"
   ]
  },
  {
   "cell_type": "code",
   "execution_count": 3,
   "id": "bc5a73ab-8b2e-4693-bc94-7090a6b5f4ee",
   "metadata": {},
   "outputs": [
    {
     "name": "stdout",
     "output_type": "stream",
     "text": [
      "(10000, 784)\n",
      "torch.Size([8000, 784])\n",
      "(8000,)\n"
     ]
    }
   ],
   "source": [
    "import TNSPC as tp\n",
    "import torch\n",
    "import torch.nn.functional as F\n",
    "import matplotlib.pyplot as plt\n",
    "from TNSPC.utils.utils import drawnow, arrange_figs\n",
    "from TNSPC.layers.leaves import *\n",
    "from TNSPC.layers.tn import *\n",
    "from TNSPC.layers.spn import *\n",
    "from TNSPC.layers.TNSPCclass import *\n",
    "from TNSPC.utils.model import *\n",
    "\n",
    "\n",
    "file_path = \"mnist.arff\"\n",
    "\n",
    "df, attribute_mapping, leaves_types = tp.utils.data.hetdata(file_path, reorder=True)\n",
    "print(df.values.shape)\n",
    "\n",
    "frac_train = int(0.8*len(df))\n",
    "frac_test = len(df) - int(0.8*len(df))\n",
    "Xtrain = torch.tensor(df.values[:frac_train]).float()\n",
    "\n",
    "print(Xtrain.shape)\n",
    "Xtest = torch.tensor(df.values[frac_train:]).float()\n",
    "print(y[:frac_train].shape)\n",
    "Ytrain = torch.tensor(y[:frac_train]).int()\n",
    "Ytest = torch.tensor(y[frac_train:]).int()\n",
    "\n",
    "#%% Fit model\n",
    "N = frac_train"
   ]
  },
  {
   "cell_type": "markdown",
   "id": "a84e2834",
   "metadata": {},
   "source": [
    "# PC model"
   ]
  },
  {
   "cell_type": "markdown",
   "id": "b5f5f83e",
   "metadata": {},
   "source": [
    "### Model structure"
   ]
  },
  {
   "cell_type": "code",
   "execution_count": 4,
   "id": "78b024f8",
   "metadata": {},
   "outputs": [
    {
     "name": "stdout",
     "output_type": "stream",
     "text": [
      "CategoricalLeaf()\n",
      "Sequential(\n",
      "  (0): MultiLeaf(\n",
      "    (0): BernoulliLeaf()\n",
      "    (1): CategoricalLeaf()\n",
      "  )\n",
      "  (1): Weightsum()\n",
      ")\n"
     ]
    }
   ],
   "source": [
    "from TNSPC.layers.leaves import NormalLeaf, CategoricalLeaf\n",
    "from TNSPC.layers.TNSPCclass import MultiLeaf\n",
    "\n",
    "# Hyperparameters\n",
    "T = 1 # Number of tracks\n",
    "C = 10  # Number of channels\n",
    "V = 784  # Number of input variables (e.g., pixels)\n",
    "classes = 10  # Number of output classes (e.g., digits 0-9)\n",
    "\n",
    "# Define individual leaf distributions\n",
    "input_leaf = BernoulliLeaf(T, V, C)         # Gaussian for pixel inputs\n",
    "output_leaf = CategoricalLeaf(T, 1, C, 10)  # Categorical for class labels\n",
    "\n",
    "\n",
    "# Combine them into a MultiLeaf\n",
    "multi_leaf = MultiLeaf(input_leaf, output_leaf)\n",
    "\n",
    "print(multi_leaf[1])\n",
    "\n",
    "pc_model = Sequential(multi_leaf,\n",
    "                     Weightsum(T, V + 1, C)) \n",
    "\n",
    "\n",
    "print(pc_model)"
   ]
  },
  {
   "cell_type": "code",
   "execution_count": 5,
   "id": "a17daf2d",
   "metadata": {},
   "outputs": [],
   "source": [
    "Xtrain = Xtrain > 0"
   ]
  },
  {
   "cell_type": "code",
   "execution_count": 6,
   "id": "799402d8",
   "metadata": {},
   "outputs": [
    {
     "data": {
      "text/plain": [
       "tensor([0., 0., 0., 0., 0., 0., 0., 0., 0., 0., 0., 0., 0., 0., 0., 0., 0., 0.,\n",
       "        0., 0., 0., 0., 0., 0., 0., 0., 0., 0., 0., 0., 0., 0., 0., 0., 0., 0.,\n",
       "        0., 0., 0., 0., 0., 0., 0., 0., 0., 0., 0., 0., 0., 0., 0., 0., 0., 0.,\n",
       "        0., 0., 0., 0., 0., 0., 0., 0., 0., 0., 0., 0., 0., 0., 0., 0., 0., 0.,\n",
       "        0., 0., 0., 0., 0., 0., 0., 0., 0., 0., 0., 0., 0., 0., 0., 0., 0., 0.,\n",
       "        0., 0., 0., 0., 0., 0., 0., 0., 0., 0., 0., 0., 0., 0., 0., 0., 0., 0.,\n",
       "        0., 0., 0., 0., 0., 0., 0., 0., 0., 0., 0., 0., 0., 0., 0., 0., 0., 0.,\n",
       "        0., 0., 0., 0., 0., 0., 0., 0., 0., 0., 0., 0., 0., 0., 0., 0., 0., 0.,\n",
       "        0., 0., 0., 0., 0., 0., 0., 0., 1., 1., 1., 1., 1., 1., 1., 1., 1., 1.,\n",
       "        1., 1., 0., 0., 0., 0., 0., 0., 0., 0., 0., 0., 0., 0., 1., 1., 1., 1.,\n",
       "        1., 1., 1., 1., 1., 1., 1., 1., 1., 1., 1., 1., 0., 0., 0., 0., 0., 0.,\n",
       "        0., 0., 0., 0., 0., 1., 1., 1., 1., 1., 1., 1., 1., 1., 1., 1., 1., 1.,\n",
       "        1., 1., 1., 0., 0., 0., 0., 0., 0., 0., 0., 0., 0., 0., 0., 1., 1., 1.,\n",
       "        1., 1., 1., 1., 1., 1., 1., 1., 0., 0., 0., 0., 0., 0., 0., 0., 0., 0.,\n",
       "        0., 0., 0., 0., 0., 0., 0., 0., 1., 1., 1., 1., 1., 1., 1., 0., 1., 1.,\n",
       "        0., 0., 0., 0., 0., 0., 0., 0., 0., 0., 0., 0., 0., 0., 0., 0., 0., 0.,\n",
       "        0., 1., 1., 1., 1., 1., 0., 0., 0., 0., 0., 0., 0., 0., 0., 0., 0., 0.,\n",
       "        0., 0., 0., 0., 0., 0., 0., 0., 0., 0., 0., 0., 0., 1., 1., 1., 1., 0.,\n",
       "        0., 0., 0., 0., 0., 0., 0., 0., 0., 0., 0., 0., 0., 0., 0., 0., 0., 0.,\n",
       "        0., 0., 0., 0., 0., 1., 1., 1., 1., 0., 0., 0., 0., 0., 0., 0., 0., 0.,\n",
       "        0., 0., 0., 0., 0., 0., 0., 0., 0., 0., 0., 0., 0., 0., 0., 0., 1., 1.,\n",
       "        1., 1., 1., 1., 0., 0., 0., 0., 0., 0., 0., 0., 0., 0., 0., 0., 0., 0.,\n",
       "        0., 0., 0., 0., 0., 0., 0., 0., 0., 1., 1., 1., 1., 1., 1., 0., 0., 0.,\n",
       "        0., 0., 0., 0., 0., 0., 0., 0., 0., 0., 0., 0., 0., 0., 0., 0., 0., 0.,\n",
       "        0., 0., 1., 1., 1., 1., 1., 1., 0., 0., 0., 0., 0., 0., 0., 0., 0., 0.,\n",
       "        0., 0., 0., 0., 0., 0., 0., 0., 0., 0., 0., 0., 0., 1., 1., 1., 1., 1.,\n",
       "        0., 0., 0., 0., 0., 0., 0., 0., 0., 0., 0., 0., 0., 0., 0., 0., 0., 0.,\n",
       "        0., 0., 0., 0., 0., 0., 0., 1., 1., 1., 1., 0., 0., 0., 0., 0., 0., 0.,\n",
       "        0., 0., 0., 0., 0., 0., 0., 0., 0., 0., 0., 0., 0., 0., 1., 1., 1., 1.,\n",
       "        1., 1., 1., 0., 0., 0., 0., 0., 0., 0., 0., 0., 0., 0., 0., 0., 0., 0.,\n",
       "        0., 0., 0., 0., 1., 1., 1., 1., 1., 1., 1., 1., 0., 0., 0., 0., 0., 0.,\n",
       "        0., 0., 0., 0., 0., 0., 0., 0., 0., 0., 0., 0., 1., 1., 1., 1., 1., 1.,\n",
       "        1., 1., 1., 0., 0., 0., 0., 0., 0., 0., 0., 0., 0., 0., 0., 0., 0., 0.,\n",
       "        0., 0., 1., 1., 1., 1., 1., 1., 1., 1., 1., 1., 0., 0., 0., 0., 0., 0.,\n",
       "        0., 0., 0., 0., 0., 0., 0., 0., 0., 0., 1., 1., 1., 1., 1., 1., 1., 1.,\n",
       "        1., 1., 0., 0., 0., 0., 0., 0., 0., 0., 0., 0., 0., 0., 0., 0., 0., 0.,\n",
       "        1., 1., 1., 1., 1., 1., 1., 1., 1., 1., 0., 0., 0., 0., 0., 0., 0., 0.,\n",
       "        0., 0., 0., 0., 0., 0., 0., 0., 0., 0., 1., 1., 1., 1., 1., 1., 1., 1.,\n",
       "        0., 0., 0., 0., 0., 0., 0., 0., 0., 0., 0., 0., 0., 0., 0., 0., 0., 0.,\n",
       "        0., 0., 0., 0., 0., 0., 0., 0., 0., 0., 0., 0., 0., 0., 0., 0., 0., 0.,\n",
       "        0., 0., 0., 0., 0., 0., 0., 0., 0., 0., 0., 0., 0., 0., 0., 0., 0., 0.,\n",
       "        0., 0., 0., 0., 0., 0., 0., 0., 0., 0., 0., 0., 0., 0., 0., 0., 0., 0.,\n",
       "        0., 0., 0., 0., 0., 0., 0., 0., 0., 0., 0., 0., 0., 0., 0., 0., 0., 0.,\n",
       "        0., 0., 0., 0., 0., 0., 0., 0., 0., 0., 5.])"
      ]
     },
     "execution_count": 6,
     "metadata": {},
     "output_type": "execute_result"
    }
   ],
   "source": [
    "concatenated = torch.cat((Xtrain.float(), Ytrain[:,None]), dim =1)\n",
    "concatenated.shape\n",
    "concatenated[0]"
   ]
  },
  {
   "cell_type": "code",
   "execution_count": 7,
   "id": "8eefc4a9",
   "metadata": {},
   "outputs": [
    {
     "name": "stdout",
     "output_type": "stream",
     "text": [
      "After layer 0 (MultiLeaf): torch.Size([8000, 1, 785, 10])\n",
      "After layer 1 (Weightsum): torch.Size([8000])\n",
      "\n"
     ]
    }
   ],
   "source": [
    "x = concatenated\n",
    "for i, layer in enumerate(pc_model):\n",
    "    x = layer(x)\n",
    "    print(f\"After layer {i} ({layer.__class__.__name__}): {x.shape}\")\n",
    "\n",
    "print()"
   ]
  },
  {
   "cell_type": "code",
   "execution_count": 8,
   "id": "9012f305",
   "metadata": {},
   "outputs": [
    {
     "name": "stderr",
     "output_type": "stream",
     "text": [
      "Epoch 10, Avg P: -182.4073: 100%|██████████| 10/10 [00:11<00:00,  1.17s/it]\n"
     ]
    },
    {
     "name": "stdout",
     "output_type": "stream",
     "text": [
      "['N', 'N', 'N', 'N', 'N', 'N', 'N', 'N', 'N', 'N', 'N', 'N', 'N', 'N', 'N', 'N', 'N', 'N', 'N', 'N', 'N', 'N', 'N', 'N', 'N', 'N', 'N', 'N', 'N', 'N', 'N', 'N', 'N', 'N', 'N', 'N', 'N', 'N', 'N', 'N', 'N', 'N', 'N', 'N', 'N', 'N', 'N', 'N', 'N', 'N', 'N', 'N', 'N', 'N', 'N', 'N', 'N', 'N', 'N', 'N', 'N', 'N', 'N', 'N', 'N', 'N', 'N', 'N', 'N', 'N', 'N', 'N', 'N', 'N', 'N', 'N', 'N', 'N', 'N', 'N', 'N', 'N', 'N', 'N', 'N', 'N', 'N', 'N', 'N', 'N', 'N', 'N', 'N', 'N', 'N', 'N', 'N', 'N', 'N', 'N', 'N', 'N', 'N', 'N', 'N', 'N', 'N', 'N', 'N', 'N', 'N', 'N', 'N', 'N', 'N', 'N', 'N', 'N', 'N', 'N', 'N', 'N', 'N', 'N', 'N', 'N', 'N', 'N', 'N', 'N', 'N', 'N', 'N', 'N', 'N', 'N', 'N', 'N', 'N', 'N', 'N', 'N', 'N', 'N', 'N', 'N', 'N', 'N', 'N', 'N', 'N', 'N', 'N', 'N', 'N', 'N', 'N', 'N', 'N', 'N', 'N', 'N', 'N', 'N', 'N', 'N', 'N', 'N', 'N', 'N', 'N', 'N', 'N', 'N', 'N', 'N', 'N', 'N', 'N', 'N', 'N', 'N', 'N', 'N', 'N', 'N', 'N', 'N', 'N', 'N', 'N', 'N', 'N', 'N', 'N', 'N', 'N', 'N', 'N', 'N', 'N', 'N', 'N', 'N', 'N', 'N', 'N', 'N', 'N', 'N', 'N', 'N', 'N', 'N', 'N', 'N', 'N', 'N', 'N', 'N', 'N', 'N', 'N', 'N', 'N', 'N', 'N', 'N', 'N', 'N', 'N', 'N', 'N', 'N', 'N', 'N', 'N', 'N', 'N', 'N', 'N', 'N', 'N', 'N', 'N', 'N', 'N', 'N', 'N', 'N', 'N', 'N', 'N', 'N', 'N', 'N', 'N', 'N', 'N', 'N', 'N', 'N', 'N', 'N', 'N', 'N', 'N', 'N', 'N', 'N', 'N', 'N', 'N', 'N', 'N', 'N', 'N', 'N', 'N', 'N', 'N', 'N', 'N', 'N', 'N', 'N', 'N', 'N', 'N', 'N', 'N', 'N', 'N', 'N', 'N', 'N', 'N', 'N', 'N', 'N', 'N', 'N', 'N', 'N', 'N', 'N', 'N', 'N', 'N', 'N', 'N', 'N', 'N', 'N', 'N', 'N', 'N', 'N', 'N', 'N', 'N', 'N', 'N', 'N', 'N', 'N', 'N', 'N', 'N', 'N', 'N', 'N', 'N', 'N', 'N', 'N', 'N', 'N', 'N', 'N', 'N', 'N', 'N', 'N', 'N', 'N', 'N', 'N', 'N', 'N', 'N', 'N', 'N', 'N', 'N', 'N', 'N', 'N', 'N', 'N', 'N', 'N', 'N', 'N', 'N', 'N', 'N', 'N', 'N', 'N', 'N', 'N', 'N', 'N', 'N', 'N', 'N', 'N', 'N', 'N', 'N', 'N', 'N', 'N', 'N', 'N', 'N', 'N', 'N', 'N', 'N', 'N', 'N', 'N', 'N', 'N', 'N', 'N', 'N', 'N', 'N', 'N', 'N', 'N', 'N', 'N', 'N', 'N', 'N', 'N', 'N', 'N', 'N', 'N', 'N', 'N', 'N', 'N', 'N', 'N', 'N', 'N', 'N', 'N', 'N', 'N', 'N', 'N', 'N', 'N', 'N', 'N', 'N', 'N', 'N', 'N', 'N', 'N', 'N', 'N', 'N', 'N', 'N', 'N', 'N', 'N', 'N', 'N', 'N', 'N', 'N', 'N', 'N', 'N', 'N', 'N', 'N', 'N', 'N', 'N', 'N', 'N', 'N', 'N', 'N', 'N', 'N', 'N', 'N', 'N', 'N', 'N', 'N', 'N', 'N', 'N', 'N', 'N', 'N', 'N', 'N', 'N', 'N', 'N', 'N', 'N', 'N', 'N', 'N', 'N', 'N', 'N', 'N', 'N', 'N', 'N', 'N', 'N', 'N', 'N', 'N', 'N', 'N', 'N', 'N', 'N', 'N', 'N', 'N', 'N', 'N', 'N', 'N', 'N', 'N', 'N', 'N', 'N', 'N', 'N', 'N', 'N', 'N', 'N', 'N', 'N', 'N', 'N', 'N', 'N', 'N', 'N', 'N', 'N', 'N', 'N', 'N', 'N', 'N', 'N', 'N', 'N', 'N', 'N', 'N', 'N', 'N', 'N', 'N', 'N', 'N', 'N', 'N', 'N', 'N', 'N', 'N', 'N', 'N', 'N', 'N', 'N', 'N', 'N', 'N', 'N', 'N', 'N', 'N', 'N', 'N', 'N', 'N', 'N', 'N', 'N', 'N', 'N', 'N', 'N', 'N', 'N', 'N', 'N', 'N', 'N', 'N', 'N', 'N', 'N', 'N', 'N', 'N', 'N', 'N', 'N', 'N', 'N', 'N', 'N', 'N', 'N', 'N', 'N', 'N', 'N', 'N', 'N', 'N', 'N', 'N', 'N', 'N', 'N', 'N', 'N', 'N', 'N', 'N', 'N', 'N', 'N', 'N', 'N', 'N', 'N', 'N', 'N', 'N', 'N', 'N', 'N', 'N', 'N', 'N', 'N', 'N', 'N', 'N', 'N', 'N', 'N', 'N', 'N', 'N', 'N', 'N', 'N', 'N', 'N', 'N', 'N', 'N', 'N', 'N', 'N', 'N', 'N', 'N', 'N', 'N', 'N', 'N', 'N', 'N', 'N', 'N', 'N', 'N', 'N', 'N', 'N', 'N', 'N', 'N', 'N', 'N', 'N', 'N', 'N', 'N', 'N', 'N', 'N', 'N', 'N', 'N', 'N', 'N', 'N', 'N', 'N', 'N', 'N', 'N', 'N', 'N', 'N', 'N', 'N', 'N', 'N', 'N', 'N', 'N', 'N', 'N', 'N', 'N', 'N', 'N', 'N', 'N', 'N', 'N', 'N', 'N', 'N', 'N', 'N', 'N', 'N', 'N', 'N', 'N', 'N', 'N', 'N', 'N', 'N', 'N', 'N', 'N', 'N', 'N', 'N', 'N', 'N', 'N', 'N', 'N', 'N', 'N', 'N', 'N', 'N', 'N', 'N', 'N', 'N', 'N', 'N', 'N', 'N', 'N', 'N', 'N', 'N', 'N', 'N', 'N', 'N', 'N', 'N', 'N', 'N', 'N', 'N', 'N', 'N', 'N', 'N', 'N', 'N', 'N', 'N', 'N', 'N', 'N', 'N', 'N', 'N', 'N', 'N', 'C']\n",
      "tensor(0.6055)\n"
     ]
    }
   ],
   "source": [
    "accs_baseline = []\n",
    "pc_model = Sequential(multi_leaf,\n",
    "                    Weightsum(T, V + 1, C)) \n",
    "pc_model.train()\n",
    "tp.utils.model.train(pc_model, [concatenated], device = device, epochs = 10, show_progress=True)\n",
    "Xtest = Xtest > 0\n",
    "empty_y = torch.zeros(Xtest.shape[0])\n",
    "empty_y[:] = float('nan')\n",
    "concatenated_test = torch.cat((Xtest.float(), empty_y[:,None]), dim =1)\n",
    "leaves_types = [\"N\"] * 784 + [\"C\"]\n",
    "print(leaves_types)\n",
    "\n",
    "imp_func = lambda model, batch, device: tp.utils.impute.impute(model, batch, leaves_types, device = device)\n",
    "\n",
    "#We can now impute the data introducing some randomn missing values\n",
    "\n",
    "p = 0.5\n",
    "mXtest = torch.clone(concatenated_test)\n",
    "\n",
    "b_mXtest = tp.utils.data.batch(mXtest, 200)\n",
    "\n",
    "Ximputed = tp.utils.impute.b_impute(pc_model, b_mXtest , imp_func, device)\n",
    "\n",
    "predicted_label = Ximputed[:,-1]\n",
    "\n",
    "num_correct = torch.sum(predicted_label == Ytest)\n",
    "print(num_correct/frac_test)    \n",
    "accs_baseline.append(num_correct/frac_test)"
   ]
  },
  {
   "cell_type": "code",
   "execution_count": 9,
   "id": "014d3130",
   "metadata": {},
   "outputs": [],
   "source": [
    "Xtest = Xtest > 0\n",
    "empty_y = torch.zeros(Xtest.shape[0])\n",
    "empty_y[:] = float('nan')\n",
    "concatenated_test = torch.cat((Xtest.float(), empty_y[:,None]), dim =1)\n"
   ]
  },
  {
   "cell_type": "code",
   "execution_count": 10,
   "id": "13b81452",
   "metadata": {},
   "outputs": [
    {
     "name": "stdout",
     "output_type": "stream",
     "text": [
      "['N', 'N', 'N', 'N', 'N', 'N', 'N', 'N', 'N', 'N', 'N', 'N', 'N', 'N', 'N', 'N', 'N', 'N', 'N', 'N', 'N', 'N', 'N', 'N', 'N', 'N', 'N', 'N', 'N', 'N', 'N', 'N', 'N', 'N', 'N', 'N', 'N', 'N', 'N', 'N', 'N', 'N', 'N', 'N', 'N', 'N', 'N', 'N', 'N', 'N', 'N', 'N', 'N', 'N', 'N', 'N', 'N', 'N', 'N', 'N', 'N', 'N', 'N', 'N', 'N', 'N', 'N', 'N', 'N', 'N', 'N', 'N', 'N', 'N', 'N', 'N', 'N', 'N', 'N', 'N', 'N', 'N', 'N', 'N', 'N', 'N', 'N', 'N', 'N', 'N', 'N', 'N', 'N', 'N', 'N', 'N', 'N', 'N', 'N', 'N', 'N', 'N', 'N', 'N', 'N', 'N', 'N', 'N', 'N', 'N', 'N', 'N', 'N', 'N', 'N', 'N', 'N', 'N', 'N', 'N', 'N', 'N', 'N', 'N', 'N', 'N', 'N', 'N', 'N', 'N', 'N', 'N', 'N', 'N', 'N', 'N', 'N', 'N', 'N', 'N', 'N', 'N', 'N', 'N', 'N', 'N', 'N', 'N', 'N', 'N', 'N', 'N', 'N', 'N', 'N', 'N', 'N', 'N', 'N', 'N', 'N', 'N', 'N', 'N', 'N', 'N', 'N', 'N', 'N', 'N', 'N', 'N', 'N', 'N', 'N', 'N', 'N', 'N', 'N', 'N', 'N', 'N', 'N', 'N', 'N', 'N', 'N', 'N', 'N', 'N', 'N', 'N', 'N', 'N', 'N', 'N', 'N', 'N', 'N', 'N', 'N', 'N', 'N', 'N', 'N', 'N', 'N', 'N', 'N', 'N', 'N', 'N', 'N', 'N', 'N', 'N', 'N', 'N', 'N', 'N', 'N', 'N', 'N', 'N', 'N', 'N', 'N', 'N', 'N', 'N', 'N', 'N', 'N', 'N', 'N', 'N', 'N', 'N', 'N', 'N', 'N', 'N', 'N', 'N', 'N', 'N', 'N', 'N', 'N', 'N', 'N', 'N', 'N', 'N', 'N', 'N', 'N', 'N', 'N', 'N', 'N', 'N', 'N', 'N', 'N', 'N', 'N', 'N', 'N', 'N', 'N', 'N', 'N', 'N', 'N', 'N', 'N', 'N', 'N', 'N', 'N', 'N', 'N', 'N', 'N', 'N', 'N', 'N', 'N', 'N', 'N', 'N', 'N', 'N', 'N', 'N', 'N', 'N', 'N', 'N', 'N', 'N', 'N', 'N', 'N', 'N', 'N', 'N', 'N', 'N', 'N', 'N', 'N', 'N', 'N', 'N', 'N', 'N', 'N', 'N', 'N', 'N', 'N', 'N', 'N', 'N', 'N', 'N', 'N', 'N', 'N', 'N', 'N', 'N', 'N', 'N', 'N', 'N', 'N', 'N', 'N', 'N', 'N', 'N', 'N', 'N', 'N', 'N', 'N', 'N', 'N', 'N', 'N', 'N', 'N', 'N', 'N', 'N', 'N', 'N', 'N', 'N', 'N', 'N', 'N', 'N', 'N', 'N', 'N', 'N', 'N', 'N', 'N', 'N', 'N', 'N', 'N', 'N', 'N', 'N', 'N', 'N', 'N', 'N', 'N', 'N', 'N', 'N', 'N', 'N', 'N', 'N', 'N', 'N', 'N', 'N', 'N', 'N', 'N', 'N', 'N', 'N', 'N', 'N', 'N', 'N', 'N', 'N', 'N', 'N', 'N', 'N', 'N', 'N', 'N', 'N', 'N', 'N', 'N', 'N', 'N', 'N', 'N', 'N', 'N', 'N', 'N', 'N', 'N', 'N', 'N', 'N', 'N', 'N', 'N', 'N', 'N', 'N', 'N', 'N', 'N', 'N', 'N', 'N', 'N', 'N', 'N', 'N', 'N', 'N', 'N', 'N', 'N', 'N', 'N', 'N', 'N', 'N', 'N', 'N', 'N', 'N', 'N', 'N', 'N', 'N', 'N', 'N', 'N', 'N', 'N', 'N', 'N', 'N', 'N', 'N', 'N', 'N', 'N', 'N', 'N', 'N', 'N', 'N', 'N', 'N', 'N', 'N', 'N', 'N', 'N', 'N', 'N', 'N', 'N', 'N', 'N', 'N', 'N', 'N', 'N', 'N', 'N', 'N', 'N', 'N', 'N', 'N', 'N', 'N', 'N', 'N', 'N', 'N', 'N', 'N', 'N', 'N', 'N', 'N', 'N', 'N', 'N', 'N', 'N', 'N', 'N', 'N', 'N', 'N', 'N', 'N', 'N', 'N', 'N', 'N', 'N', 'N', 'N', 'N', 'N', 'N', 'N', 'N', 'N', 'N', 'N', 'N', 'N', 'N', 'N', 'N', 'N', 'N', 'N', 'N', 'N', 'N', 'N', 'N', 'N', 'N', 'N', 'N', 'N', 'N', 'N', 'N', 'N', 'N', 'N', 'N', 'N', 'N', 'N', 'N', 'N', 'N', 'N', 'N', 'N', 'N', 'N', 'N', 'N', 'N', 'N', 'N', 'N', 'N', 'N', 'N', 'N', 'N', 'N', 'N', 'N', 'N', 'N', 'N', 'N', 'N', 'N', 'N', 'N', 'N', 'N', 'N', 'N', 'N', 'N', 'N', 'N', 'N', 'N', 'N', 'N', 'N', 'N', 'N', 'N', 'N', 'N', 'N', 'N', 'N', 'N', 'N', 'N', 'N', 'N', 'N', 'N', 'N', 'N', 'N', 'N', 'N', 'N', 'N', 'N', 'N', 'N', 'N', 'N', 'N', 'N', 'N', 'N', 'N', 'N', 'N', 'N', 'N', 'N', 'N', 'N', 'N', 'N', 'N', 'N', 'N', 'N', 'N', 'N', 'N', 'N', 'N', 'N', 'N', 'N', 'N', 'N', 'N', 'N', 'N', 'N', 'N', 'N', 'N', 'N', 'N', 'N', 'N', 'N', 'N', 'N', 'N', 'N', 'N', 'N', 'N', 'N', 'N', 'N', 'N', 'N', 'N', 'N', 'N', 'N', 'N', 'N', 'N', 'N', 'N', 'N', 'N', 'N', 'N', 'N', 'N', 'N', 'N', 'N', 'N', 'N', 'N', 'N', 'N', 'N', 'N', 'N', 'N', 'N', 'N', 'N', 'N', 'N', 'N', 'N', 'N', 'N', 'N', 'N', 'N', 'N', 'N', 'N', 'N', 'N', 'N', 'N', 'N', 'N', 'N', 'N', 'N', 'N', 'N', 'N', 'N', 'N', 'N', 'N', 'N', 'N', 'N', 'N', 'N', 'N', 'N', 'N', 'N', 'N', 'N', 'N', 'N', 'N', 'N', 'N', 'N', 'N', 'N', 'N', 'N', 'N', 'N', 'N', 'N', 'N', 'N', 'N', 'N', 'C']\n"
     ]
    }
   ],
   "source": [
    "leaves_types = [\"N\"] * 784 + [\"C\"]\n",
    "print(leaves_types)\n",
    "\n",
    "imp_func = lambda model, batch, device: tp.utils.impute.impute(model, batch, leaves_types, device = device)\n",
    "\n",
    "#We can now impute the data introducing some randomn missing values\n",
    "\n",
    "p = 0.5\n",
    "mXtest = torch.clone(concatenated_test)\n",
    "\n",
    "b_mXtest = tp.utils.data.batch(mXtest, 200)\n",
    "\n",
    "Ximputed = tp.utils.impute.b_impute(pc_model, b_mXtest , imp_func, device)\n",
    "\n",
    "predicted_label = Ximputed[:,-1]\n"
   ]
  },
  {
   "cell_type": "code",
   "execution_count": 11,
   "id": "bb1e0b06",
   "metadata": {},
   "outputs": [
    {
     "name": "stdout",
     "output_type": "stream",
     "text": [
      "tensor(0.6055)\n"
     ]
    }
   ],
   "source": [
    "num_correct = torch.sum(predicted_label == Ytest)\n",
    "print(num_correct/frac_test)"
   ]
  },
  {
   "cell_type": "markdown",
   "id": "8fee464f",
   "metadata": {},
   "source": [
    "# CNN model"
   ]
  },
  {
   "cell_type": "markdown",
   "id": "cc9b56a2",
   "metadata": {},
   "source": [
    "### Create Torch dataset"
   ]
  },
  {
   "cell_type": "code",
   "execution_count": 12,
   "id": "9558ae9b",
   "metadata": {},
   "outputs": [],
   "source": [
    "\n",
    "# Create Dataset objects for training and validation\n",
    "train_dataset = torch.utils.data.TensorDataset(Xtrain.view(-1, 1, 28, 28), Ytrain)\n",
    "val_dataset = torch.utils.data.TensorDataset(Xtest.view(-1, 1, 28, 28), Ytest)\n",
    "\n",
    "# Create DataLoader objects for loading data in batches\n",
    "batch_size = 64\n",
    "train_loader = torch.utils.data.DataLoader(train_dataset, batch_size=batch_size, shuffle=True)\n",
    "val_loader = torch.utils.data.DataLoader(val_dataset, batch_size=batch_size, shuffle=False)"
   ]
  },
  {
   "cell_type": "markdown",
   "id": "d6b8df07",
   "metadata": {},
   "source": [
    "### Define network structure"
   ]
  },
  {
   "cell_type": "markdown",
   "id": "98c9ed9d",
   "metadata": {},
   "source": [
    "### CNN in Use"
   ]
  },
  {
   "cell_type": "code",
   "execution_count": 13,
   "id": "dfdb2e49",
   "metadata": {},
   "outputs": [
    {
     "name": "stdout",
     "output_type": "stream",
     "text": [
      "Model(\n",
      "  (conv1): Conv2d(1, 3, kernel_size=(5, 5), stride=(1, 1))\n",
      "  (conv2): Conv2d(3, 6, kernel_size=(5, 5), stride=(1, 1))\n",
      "  (pool): MaxPool2d(kernel_size=2, stride=2, padding=0, dilation=1, ceil_mode=False)\n",
      "  (dropout): Dropout(p=0.25, inplace=False)\n",
      "  (fc1): Linear(in_features=96, out_features=128, bias=True)\n",
      "  (fc2): Linear(in_features=128, out_features=10, bias=True)\n",
      "  (print_size): PrintSize()\n",
      ")\n"
     ]
    },
    {
     "data": {
      "text/plain": [
       "400"
      ]
     },
     "execution_count": 13,
     "metadata": {},
     "output_type": "execute_result"
    }
   ],
   "source": [
    "class PrintSize(nn.Module):\n",
    "    \"\"\"Utility module to print current shape of a Tensor in Sequential, only at the first pass.\"\"\"\n",
    "\n",
    "    first = True\n",
    "\n",
    "    def forward(self, x):\n",
    "        if self.first:\n",
    "            print(f\"Size: {x.size()}\")\n",
    "            self.first = False\n",
    "        return x\n",
    "\n",
    "\n",
    "class Model(nn.Module):\n",
    "    def __init__(self, inpsz,  num_classes = 10):\n",
    "        super(Model, self).__init__()\n",
    "        self.conv1 = nn.Conv2d(1, 3, 5)\n",
    "        self.conv2 = nn.Conv2d(3, 6, 5)\n",
    "\n",
    "        self.pool = nn.MaxPool2d(2, 2)\n",
    "        self.dropout = nn.Dropout(0.25)\n",
    "\n",
    "        self.fc1 = nn.Linear(96, 128)\n",
    "        self.fc2 = nn.Linear(128, num_classes)\n",
    "\n",
    "        self.print_size = PrintSize()\n",
    "\n",
    "    def count_output_cl(self, inpsz):\n",
    "        x = torch.rand(inpsz)\n",
    "        y = nn.Flatten()(self.conv2(self.conv1(x[None])))\n",
    "        return y.shape[1]\n",
    "    \n",
    "    def forward(self, x):\n",
    "\n",
    "      x = self.dropout(self.pool(F.relu(self.conv1(x.float()))))\n",
    "      x = self.dropout(self.pool(F.relu(self.conv2(x))))\n",
    "      \n",
    "\n",
    "      x = self.print_size(x)\n",
    "\n",
    "      x = x.view(x.size(0), -1)\n",
    "      #x = nn.Flatten()(x)\n",
    "    \n",
    "      \n",
    "      x = F.relu(self.fc1(x))\n",
    "      \n",
    "      x = self.fc2(x)\n",
    "\n",
    "      return x\n",
    "    \n",
    "    def return_hidden(self, x):\n",
    "      x = self.dropout(self.pool(F.relu(self.conv1(x.float()))))\n",
    "      x = self.dropout(self.pool(F.relu(self.conv2(x))))\n",
    "\n",
    "      x = self.print_size(x)\n",
    "\n",
    "      x = x.view(x.size(0), -1)\n",
    "        \n",
    "      return x\n",
    "\n",
    "cnn_model_2l = Model((28, 28), 10)\n",
    "device = torch.device('cpu')  # use cuda or cpu\n",
    "cnn_model_2l.to(device)\n",
    "print(cnn_model_2l)\n",
    "cnn_model_2l.count_output_cl((28, 28))"
   ]
  },
  {
   "cell_type": "code",
   "execution_count": 14,
   "id": "93e086c6",
   "metadata": {},
   "outputs": [
    {
     "data": {
      "text/plain": [
       "torch.Size([8000, 784])"
      ]
     },
     "execution_count": 14,
     "metadata": {},
     "output_type": "execute_result"
    }
   ],
   "source": [
    "Xtrain.shape"
   ]
  },
  {
   "cell_type": "markdown",
   "id": "fe86c1e8",
   "metadata": {},
   "source": [
    "### Training CNN"
   ]
  },
  {
   "cell_type": "code",
   "execution_count": 15,
   "id": "cb018a83",
   "metadata": {},
   "outputs": [
    {
     "name": "stdout",
     "output_type": "stream",
     "text": [
      "Size: torch.Size([64, 6, 4, 4])\n",
      "Epoch 1/10, Training Loss: 1.5132, Validation Loss: 0.5962, Validation Accuracy: 81.40%\n",
      "Epoch 2/10, Training Loss: 0.5969, Validation Loss: 0.3869, Validation Accuracy: 88.50%\n",
      "Epoch 3/10, Training Loss: 0.4463, Validation Loss: 0.3259, Validation Accuracy: 90.30%\n",
      "Epoch 4/10, Training Loss: 0.3856, Validation Loss: 0.2881, Validation Accuracy: 91.65%\n",
      "Epoch 5/10, Training Loss: 0.3602, Validation Loss: 0.2840, Validation Accuracy: 91.50%\n",
      "Epoch 6/10, Training Loss: 0.3256, Validation Loss: 0.2626, Validation Accuracy: 92.30%\n",
      "Epoch 7/10, Training Loss: 0.2978, Validation Loss: 0.2480, Validation Accuracy: 92.65%\n",
      "Epoch 8/10, Training Loss: 0.2885, Validation Loss: 0.2268, Validation Accuracy: 93.15%\n",
      "Epoch 9/10, Training Loss: 0.2742, Validation Loss: 0.2166, Validation Accuracy: 93.00%\n",
      "Epoch 10/10, Training Loss: 0.2594, Validation Loss: 0.2234, Validation Accuracy: 93.00%\n"
     ]
    }
   ],
   "source": [
    "# Initialize the network, loss function, and optimizer\n",
    "import torch.optim as optim\n",
    "\n",
    "\n",
    "criterion = nn.CrossEntropyLoss()\n",
    "optimizer = optim.Adam(cnn_model_2l.parameters(), lr=0.001)\n",
    "\n",
    "# Train the model\n",
    "epochs = 10\n",
    "accs_cnn = []\n",
    "for epoch in range(epochs):\n",
    "    cnn_model_2l.train()\n",
    "    running_loss = 0.0\n",
    "    for images, labels in train_loader:\n",
    "        # Zero the parameter gradients\n",
    "        optimizer.zero_grad()\n",
    "            # Convert labels to Long type\n",
    "        labels = labels.long()\n",
    "        \n",
    "        # Forward pass\n",
    "        outputs = cnn_model_2l(images)\n",
    "        loss = criterion(outputs, labels)\n",
    "        \n",
    "        # Backward pass and optimization\n",
    "        loss.backward()\n",
    "        optimizer.step()\n",
    "        \n",
    "        running_loss += loss.item()\n",
    "    \n",
    "    # Validation step\n",
    "    cnn_model_2l.eval()\n",
    "    val_loss = 0.0\n",
    "    correct = 0\n",
    "    total = 0\n",
    "    with torch.no_grad():\n",
    "        for images, labels in val_loader:\n",
    "            labels = labels.long()\n",
    "\n",
    "            outputs = cnn_model_2l(images)\n",
    "            loss = criterion(outputs, labels)\n",
    "            val_loss += loss.item()\n",
    "            _, predicted = torch.max(outputs, 1)\n",
    "            total += labels.size(0)\n",
    "            correct += (predicted == labels).sum().item()\n",
    "    \n",
    "    print(f\"Epoch {epoch+1}/{epochs}, Training Loss: {running_loss/len(train_loader):.4f}, Validation Loss: {val_loss/len(val_loader):.4f}, Validation Accuracy: {100 * correct / total:.2f}%\")\n",
    "    accs_cnn.append(correct / total)"
   ]
  },
  {
   "cell_type": "markdown",
   "id": "c5024ec3",
   "metadata": {},
   "source": [
    "# CNN + PC"
   ]
  },
  {
   "cell_type": "code",
   "execution_count": 16,
   "id": "d2bcf8c1",
   "metadata": {},
   "outputs": [],
   "source": [
    "final_conv_out = cnn_model_2l.return_hidden(Xtrain.view(-1, 1, 28, 28))"
   ]
  },
  {
   "cell_type": "code",
   "execution_count": 17,
   "id": "8a2123a0",
   "metadata": {},
   "outputs": [
    {
     "data": {
      "text/plain": [
       "torch.Size([8000, 96])"
      ]
     },
     "execution_count": 17,
     "metadata": {},
     "output_type": "execute_result"
    }
   ],
   "source": [
    "final_conv_out.shape"
   ]
  },
  {
   "cell_type": "code",
   "execution_count": 18,
   "id": "6d10604f",
   "metadata": {},
   "outputs": [
    {
     "data": {
      "image/png": "[encoded data removed]",
      "text/plain": [
       "<Figure size 200x200 with 1 Axes>"
      ]
     },
     "metadata": {},
     "output_type": "display_data"
    },
    {
     "data": {
      "image/png": "[encoded data removed]",
      "text/plain": [
       "<Figure size 200x200 with 1 Axes>"
      ]
     },
     "metadata": {},
     "output_type": "display_data"
    },
    {
     "data": {
      "image/png": "[encoded data removed]",
      "text/plain": [
       "<Figure size 200x200 with 1 Axes>"
      ]
     },
     "metadata": {},
     "output_type": "display_data"
    },
    {
     "data": {
      "image/png": "[encoded data removed]",
      "text/plain": [
       "<Figure size 200x200 with 1 Axes>"
      ]
     },
     "metadata": {},
     "output_type": "display_data"
    },
    {
     "data": {
      "image/png": "[encoded data removed]",
      "text/plain": [
       "<Figure size 200x200 with 1 Axes>"
      ]
     },
     "metadata": {},
     "output_type": "display_data"
    },
    {
     "data": {
      "image/png": "[encoded data removed]",
      "text/plain": [
       "<Figure size 200x200 with 1 Axes>"
      ]
     },
     "metadata": {},
     "output_type": "display_data"
    }
   ],
   "source": [
    "final_conv_out[0]\n",
    "from matplotlib import pyplot as plt\n",
    "for conv_kernel in final_conv_out[0].detach().numpy().reshape(6, 4, 4):\n",
    "    plt.figure(figsize=(2, 2))\n",
    "    plt.imshow(conv_kernel)\n",
    "\n",
    "#plt.imshow(final_conv_out[0].detach().numpy().reshape(6, 4, 4))"
   ]
  },
  {
   "cell_type": "code",
   "execution_count": 19,
   "id": "741fed90",
   "metadata": {},
   "outputs": [],
   "source": [
    "Xtrain_mixed = final_conv_out\n",
    "Xtrain_mixed = Xtrain_mixed > 0"
   ]
  },
  {
   "cell_type": "code",
   "execution_count": 20,
   "id": "11f43086",
   "metadata": {},
   "outputs": [
    {
     "data": {
      "image/png": "[encoded data removed]",
      "text/plain": [
       "<Figure size 200x200 with 1 Axes>"
      ]
     },
     "metadata": {},
     "output_type": "display_data"
    },
    {
     "data": {
      "image/png": "[encoded data removed]",
      "text/plain": [
       "<Figure size 200x200 with 1 Axes>"
      ]
     },
     "metadata": {},
     "output_type": "display_data"
    },
    {
     "data": {
      "image/png": "[encoded data removed]",
      "text/plain": [
       "<Figure size 200x200 with 1 Axes>"
      ]
     },
     "metadata": {},
     "output_type": "display_data"
    },
    {
     "data": {
      "image/png": "[encoded data removed]",
      "text/plain": [
       "<Figure size 200x200 with 1 Axes>"
      ]
     },
     "metadata": {},
     "output_type": "display_data"
    },
    {
     "data": {
      "image/png": "[encoded data removed]",
      "text/plain": [
       "<Figure size 200x200 with 1 Axes>"
      ]
     },
     "metadata": {},
     "output_type": "display_data"
    },
    {
     "data": {
      "image/png": "[encoded data removed]",
      "text/plain": [
       "<Figure size 200x200 with 1 Axes>"
      ]
     },
     "metadata": {},
     "output_type": "display_data"
    }
   ],
   "source": [
    "for conv_kernel in Xtrain_mixed[1].detach().numpy().reshape(6, 4, 4):\n",
    "    plt.figure(figsize=(2, 2))\n",
    "    plt.imshow(conv_kernel)"
   ]
  },
  {
   "cell_type": "code",
   "execution_count": 21,
   "id": "2dec1845",
   "metadata": {},
   "outputs": [
    {
     "name": "stdout",
     "output_type": "stream",
     "text": [
      "CategoricalLeaf()\n",
      "Sequential(\n",
      "  (0): MultiLeaf(\n",
      "    (0): BernoulliLeaf()\n",
      "    (1): CategoricalLeaf()\n",
      "  )\n",
      "  (1): Weightsum()\n",
      ")\n"
     ]
    }
   ],
   "source": [
    "from TNSPC.layers.leaves import NormalLeaf, CategoricalLeaf\n",
    "from TNSPC.layers.TNSPCclass import MultiLeaf\n",
    "\n",
    "# Hyperparameters\n",
    "T = 1 # Number of tracks\n",
    "C = 82  # Number of channels\n",
    "V = 96  # Number of input variables (e.g., pixels)\n",
    "classes = 10  # Number of output classes (e.g., digits 0-9)\n",
    "\n",
    "# Define individual leaf distributions\n",
    "input_leaf = BernoulliLeaf(T, V, C)         # Gaussian for pixel inputs\n",
    "output_leaf = CategoricalLeaf(T, 1, C, 10)  # Categorical for class labels\n",
    "\n",
    "\n",
    "# Combine them into a MultiLeaf\n",
    "multi_leaf = MultiLeaf(input_leaf, output_leaf)\n",
    "\n",
    "print(multi_leaf[1])\n",
    "\n",
    "mixed_model = Sequential(multi_leaf,\n",
    "                     Weightsum(T, V + 1, C)) \n",
    "\n",
    "#model = tp.utils.model.CP_(T, V, C, multi_leaf).to(device)\n",
    "\n",
    "print(mixed_model)"
   ]
  },
  {
   "cell_type": "code",
   "execution_count": 208,
   "id": "49d32e88",
   "metadata": {},
   "outputs": [
    {
     "data": {
      "text/plain": [
       "14"
      ]
     },
     "execution_count": 208,
     "metadata": {},
     "output_type": "execute_result"
    }
   ],
   "source": [
    "cp_channels(1/6, 8000, V)\n"
   ]
  },
  {
   "cell_type": "code",
   "execution_count": 220,
   "id": "bd4948c4",
   "metadata": {},
   "outputs": [
    {
     "data": {
      "text/plain": [
       "torch.Size([8000, 97])"
      ]
     },
     "execution_count": 220,
     "metadata": {},
     "output_type": "execute_result"
    }
   ],
   "source": [
    "concatenated = torch.cat((Xtrain_mixed.float(), Ytrain.int()[:,None]), dim =1)\n",
    "concatenated.shape\n"
   ]
  },
  {
   "cell_type": "code",
   "execution_count": 213,
   "id": "7fd11b50",
   "metadata": {},
   "outputs": [
    {
     "name": "stdout",
     "output_type": "stream",
     "text": [
      "After layer 0 (MultiLeaf): torch.Size([8000, 1, 97, 82])\n",
      "After layer 1 (Weightsum): torch.Size([8000])\n",
      "\n"
     ]
    }
   ],
   "source": [
    "x = concatenated\n",
    "for i, layer in enumerate(mixed_model):\n",
    "    x = layer(x)\n",
    "    print(f\"After layer {i} ({layer.__class__.__name__}): {x.shape}\")\n",
    "\n",
    "print()"
   ]
  },
  {
   "cell_type": "code",
   "execution_count": 150,
   "id": "49db3672",
   "metadata": {},
   "outputs": [
    {
     "name": "stderr",
     "output_type": "stream",
     "text": [
      "Epoch 10, Avg P: -37.0808: 100%|██████████| 10/10 [00:09<00:00,  1.08it/s]\n"
     ]
    },
    {
     "name": "stdout",
     "output_type": "stream",
     "text": [
      "['B', 'B', 'B', 'B', 'B', 'B', 'B', 'B', 'B', 'B', 'B', 'B', 'B', 'B', 'B', 'B', 'B', 'B', 'B', 'B', 'B', 'B', 'B', 'B', 'B', 'B', 'B', 'B', 'B', 'B', 'B', 'B', 'B', 'B', 'B', 'B', 'B', 'B', 'B', 'B', 'B', 'B', 'B', 'B', 'B', 'B', 'B', 'B', 'B', 'B', 'B', 'B', 'B', 'B', 'B', 'B', 'B', 'B', 'B', 'B', 'B', 'B', 'B', 'B', 'B', 'B', 'B', 'B', 'B', 'B', 'B', 'B', 'B', 'B', 'B', 'B', 'B', 'B', 'B', 'B', 'B', 'B', 'B', 'B', 'B', 'B', 'B', 'B', 'B', 'B', 'B', 'B', 'B', 'B', 'B', 'B', 'C']\n",
      "tensor(0.9045)\n"
     ]
    }
   ],
   "source": [
    "accs = []\n",
    "mixed_model = Sequential(multi_leaf,\n",
    "                    Weightsum(T, V + 1, C)) \n",
    "mixed_model.train()\n",
    "tp.utils.model.train(mixed_model, [concatenated], device = device, epochs = 10, show_progress=True)\n",
    "Xtest_mixed = cnn_model_2l.return_hidden(Xtest.view(-1, 1, 28, 28))\n",
    "Xtest_mixed = Xtest_mixed > 0\n",
    "empty_y = torch.zeros(Xtest_mixed.shape[0])\n",
    "empty_y[:] = float('nan')\n",
    "concatenated_test = torch.cat((Xtest_mixed.float(), empty_y[:,None]), dim =1)\n",
    "leaves_types = [\"B\"] * 96 + [\"C\"]\n",
    "print(leaves_types)\n",
    "\n",
    "imp_func = lambda model, batch, device: tp.utils.impute.impute(model, batch, leaves_types, device = device)\n",
    "\n",
    "#We can now impute the data introducing some randomn missing values\n",
    "\n",
    "p = 0.5\n",
    "mXtest = torch.clone(concatenated_test)\n",
    "\n",
    "b_mXtest = tp.utils.data.batch(mXtest, 200)\n",
    "\n",
    "Ximputed = tp.utils.impute.b_impute(mixed_model, b_mXtest , imp_func, device)\n",
    "\n",
    "predicted_label = Ximputed[:,-1]\n",
    "num_correct = torch.sum(predicted_label == Ytest)\n",
    "print(num_correct/frac_test)\n",
    "accs.append(num_correct/frac_test)"
   ]
  },
  {
   "cell_type": "code",
   "execution_count": 151,
   "id": "55566244",
   "metadata": {},
   "outputs": [],
   "source": [
    "Xtest_mixed = cnn_model_2l.return_hidden(Xtest.view(-1, 1, 28, 28))\n",
    "Xtest_mixed = Xtest_mixed > 0\n",
    "empty_y = torch.zeros(Xtest_mixed.shape[0])\n",
    "empty_y[:] = float('nan')\n",
    "concatenated_test = torch.cat((Xtest_mixed.float(), empty_y[:,None]), dim =1)"
   ]
  },
  {
   "cell_type": "code",
   "execution_count": 152,
   "id": "919277f3",
   "metadata": {},
   "outputs": [
    {
     "name": "stdout",
     "output_type": "stream",
     "text": [
      "['B', 'B', 'B', 'B', 'B', 'B', 'B', 'B', 'B', 'B', 'B', 'B', 'B', 'B', 'B', 'B', 'B', 'B', 'B', 'B', 'B', 'B', 'B', 'B', 'B', 'B', 'B', 'B', 'B', 'B', 'B', 'B', 'B', 'B', 'B', 'B', 'B', 'B', 'B', 'B', 'B', 'B', 'B', 'B', 'B', 'B', 'B', 'B', 'B', 'B', 'B', 'B', 'B', 'B', 'B', 'B', 'B', 'B', 'B', 'B', 'B', 'B', 'B', 'B', 'B', 'B', 'B', 'B', 'B', 'B', 'B', 'B', 'B', 'B', 'B', 'B', 'B', 'B', 'B', 'B', 'B', 'B', 'B', 'B', 'B', 'B', 'B', 'B', 'B', 'B', 'B', 'B', 'B', 'B', 'B', 'B', 'C']\n"
     ]
    }
   ],
   "source": [
    "leaves_types = [\"B\"] * 96 + [\"C\"]\n",
    "print(leaves_types)\n",
    "\n",
    "imp_func = lambda model, batch, device: tp.utils.impute.impute(model, batch, leaves_types, device = device)\n",
    "\n",
    "#We can now impute the data introducing some randomn missing values\n",
    "\n",
    "p = 0.5\n",
    "mXtest = torch.clone(concatenated_test)\n",
    "\n",
    "b_mXtest = tp.utils.data.batch(mXtest, 200)\n",
    "\n",
    "Ximputed = tp.utils.impute.b_impute(mixed_model, b_mXtest , imp_func, device)\n",
    "\n",
    "predicted_label = Ximputed[:,-1]\n"
   ]
  },
  {
   "cell_type": "code",
   "execution_count": 153,
   "id": "3a2133f2",
   "metadata": {},
   "outputs": [
    {
     "name": "stdout",
     "output_type": "stream",
     "text": [
      "tensor(0.9045)\n"
     ]
    }
   ],
   "source": [
    "num_correct = torch.sum(predicted_label == Ytest)\n",
    "print(num_correct/frac_test)"
   ]
  },
  {
   "cell_type": "code",
   "execution_count": 154,
   "id": "2b6fb3b1",
   "metadata": {},
   "outputs": [
    {
     "data": {
      "text/plain": [
       "tensor([0., 6., 2.,  ..., 6., 9., 7.])"
      ]
     },
     "execution_count": 154,
     "metadata": {},
     "output_type": "execute_result"
    }
   ],
   "source": [
    "predicted_label"
   ]
  },
  {
   "cell_type": "code",
   "execution_count": 155,
   "id": "9c53bd2f",
   "metadata": {},
   "outputs": [
    {
     "name": "stdout",
     "output_type": "stream",
     "text": [
      "Total parameters: 7950\n"
     ]
    }
   ],
   "source": [
    "total_params = sum(p.numel() for p in pc_model.parameters())\n",
    "print(f\"Total parameters: {total_params}\")"
   ]
  },
  {
   "cell_type": "code",
   "execution_count": 156,
   "id": "a5a20b75",
   "metadata": {},
   "outputs": [
    {
     "name": "stdout",
     "output_type": "stream",
     "text": [
      "Total parameters: 8774\n"
     ]
    }
   ],
   "source": [
    "total_params = sum(p.numel() for p in mixed_model.parameters())\n",
    "print(f\"Total parameters: {total_params}\")"
   ]
  },
  {
   "cell_type": "code",
   "execution_count": 32,
   "id": "b3b802ac",
   "metadata": {},
   "outputs": [
    {
     "data": {
      "text/plain": [
       "10"
      ]
     },
     "execution_count": 32,
     "metadata": {},
     "output_type": "execute_result"
    }
   ],
   "source": [
    "cp_channels(1, 8000, pc_model[0].V)\n"
   ]
  },
  {
   "cell_type": "code",
   "execution_count": 33,
   "id": "b60369d7",
   "metadata": {},
   "outputs": [
    {
     "data": {
      "text/plain": [
       "82"
      ]
     },
     "execution_count": 33,
     "metadata": {},
     "output_type": "execute_result"
    }
   ],
   "source": [
    "cp_channels(1, 8000, mixed_model[0].V)\n"
   ]
  },
  {
   "cell_type": "markdown",
   "id": "9aca8e53",
   "metadata": {},
   "source": [
    "# Experiment (train size)"
   ]
  },
  {
   "cell_type": "code",
   "execution_count": 172,
   "id": "ee28da48",
   "metadata": {},
   "outputs": [],
   "source": [
    "class PrintSize(nn.Module):\n",
    "    \"\"\"Utility module to print current shape of a Tensor in Sequential, only at the first pass.\"\"\"\n",
    "\n",
    "    first = True\n",
    "\n",
    "    def forward(self, x):\n",
    "        if self.first:\n",
    "            print(f\"Size: {x.size()}\")\n",
    "            self.first = False\n",
    "        return x\n",
    "\n",
    "\n",
    "class ff_Model(nn.Module):\n",
    "    def __init__(self,  num_classes = 10):\n",
    "        super(ff_Model, self).__init__()\n",
    "\n",
    "        self.fc1 = nn.Linear(96, 76)\n",
    "        self.fc2 = nn.Linear(76, num_classes)\n",
    "\n",
    "        self.print_size = PrintSize()\n",
    "    \n",
    "    def forward(self, x):\n",
    "      #x = nn.Flatten()(x)\n",
    "    \n",
    "      \n",
    "      x = F.relu(self.fc1(x))\n",
    "      \n",
    "      x = self.fc2(x)\n",
    "\n",
    "      return x\n",
    "    \n",
    "\n",
    "\n"
   ]
  },
  {
   "cell_type": "code",
   "execution_count": 173,
   "id": "d4616b0e",
   "metadata": {},
   "outputs": [
    {
     "name": "stdout",
     "output_type": "stream",
     "text": [
      "Number of trainable parameters: 8142\n"
     ]
    }
   ],
   "source": [
    "# Count total parameters\n",
    "ff_model = ff_Model(10)\n",
    "trainable_params = sum(p.numel() for p in ff_model.parameters())\n",
    "print(f\"Number of trainable parameters: {trainable_params}\")"
   ]
  },
  {
   "cell_type": "code",
   "execution_count": 71,
   "id": "1f74b31f",
   "metadata": {},
   "outputs": [
    {
     "data": {
      "text/plain": [
       "tensor([1., 1., 0., 0., 0., 1., 0., 0., 0., 0., 1., 1., 0., 0., 0., 0., 0., 0.,\n",
       "        1., 1., 1., 1., 1., 1., 1., 1., 1., 0., 1., 0., 0., 1., 0., 0., 0., 0.,\n",
       "        0., 0., 1., 1., 1., 0., 0., 1., 0., 0., 0., 1., 1., 1., 1., 1., 1., 1.,\n",
       "        0., 0., 1., 1., 0., 0., 0., 1., 1., 1., 0., 0., 0., 0., 0., 0., 0., 0.,\n",
       "        0., 0., 1., 0., 0., 1., 1., 0., 1., 0., 0., 0., 1., 1., 0., 1., 1., 1.,\n",
       "        1., 0., 1., 1., 0., 0., 5.])"
      ]
     },
     "execution_count": 71,
     "metadata": {},
     "output_type": "execute_result"
    }
   ],
   "source": [
    "concatenated[0]\n"
   ]
  },
  {
   "cell_type": "code",
   "execution_count": 72,
   "id": "498dc03c",
   "metadata": {},
   "outputs": [],
   "source": [
    "# Input into Mixed PC\n",
    "def get_mini_batch(start= 0, stop = 2000):\n",
    "    tuples = []\n",
    "    for i in range (start, stop):\n",
    "        line = concatenated[i]\n",
    "        tuple = (line[:-1], line[-1])\n",
    "        tuples.append(tuple)\n",
    "\n",
    "    return tuples"
   ]
  },
  {
   "cell_type": "code",
   "execution_count": 76,
   "id": "e2d001bb",
   "metadata": {},
   "outputs": [
    {
     "name": "stdout",
     "output_type": "stream",
     "text": [
      "ff_Model(\n",
      "  (fc1): Linear(in_features=96, out_features=76, bias=True)\n",
      "  (fc2): Linear(in_features=76, out_features=10, bias=True)\n",
      "  (print_size): PrintSize()\n",
      ")\n"
     ]
    },
    {
     "name": "stderr",
     "output_type": "stream",
     "text": [
      "C:\\Users\\Milosz\\AppData\\Local\\Temp\\ipykernel_6376\\2498096215.py:24: UserWarning: To copy construct from a tensor, it is recommended to use sourceTensor.clone().detach() or sourceTensor.clone().detach().requires_grad_(True), rather than torch.tensor(sourceTensor).\n",
      "  labels = torch.tensor(labels.long())\n"
     ]
    },
    {
     "name": "stdout",
     "output_type": "stream",
     "text": [
      "Epoch 1/10, Training Loss: 7.7652, Validation Loss: 15.3461, Validation Accuracy: 85.10%\n",
      "Epoch 2/10, Training Loss: 2.7198, Validation Loss: 13.0235, Validation Accuracy: 86.90%\n",
      "Epoch 3/10, Training Loss: 2.0003, Validation Loss: 13.1480, Validation Accuracy: 86.60%\n",
      "Epoch 4/10, Training Loss: 1.5686, Validation Loss: 13.5017, Validation Accuracy: 86.40%\n",
      "Epoch 5/10, Training Loss: 1.2337, Validation Loss: 13.9161, Validation Accuracy: 85.90%\n",
      "Epoch 6/10, Training Loss: 0.9598, Validation Loss: 14.3021, Validation Accuracy: 86.60%\n",
      "Epoch 7/10, Training Loss: 0.7304, Validation Loss: 15.1668, Validation Accuracy: 86.50%\n",
      "Epoch 8/10, Training Loss: 0.5526, Validation Loss: 15.4248, Validation Accuracy: 87.30%\n",
      "Epoch 9/10, Training Loss: 0.4003, Validation Loss: 16.0416, Validation Accuracy: 87.10%\n",
      "Epoch 10/10, Training Loss: 0.2782, Validation Loss: 16.3951, Validation Accuracy: 87.50%\n"
     ]
    }
   ],
   "source": [
    "# Initialize the network, loss function, and optimizer\n",
    "import torch.optim as optim\n",
    "\n",
    "ff_model = ff_Model(10)\n",
    "device = torch.device('cpu')  # use cuda or cpu\n",
    "ff_model.to(device)\n",
    "print(ff_model)\n",
    "\n",
    "\n",
    "criterion = nn.CrossEntropyLoss()\n",
    "optimizer = optim.Adam(ff_model.parameters(), lr=0.001)\n",
    "\n",
    "# Train the model\n",
    "epochs = 10\n",
    "batch_10 = get_mini_batch(0, 1000)\n",
    "#print(batch_10.shape)\n",
    "for epoch in range(epochs):\n",
    "    ff_model.train()\n",
    "    running_loss = 0.0\n",
    "    for images, labels in batch_10:\n",
    "        # Zero the parameter gradients\n",
    "        optimizer.zero_grad()\n",
    "        # Convert labels to Long type\n",
    "        labels = torch.tensor(labels.long())\n",
    "        \n",
    "        # Forward pass\n",
    "        outputs = ff_model(images)\n",
    "        loss = criterion(outputs, labels)\n",
    "        \n",
    "        # Backward pass and optimization\n",
    "        loss.backward()\n",
    "        optimizer.step()\n",
    "        \n",
    "        running_loss += loss.item()\n",
    "    \n",
    "\n",
    "    # Validation step\n",
    "    ff_model.eval()\n",
    "    val_loss = 0.0\n",
    "    correct = 0\n",
    "    total = 0\n",
    "    test = get_mini_batch(1000, 2000)\n",
    "    with torch.no_grad():\n",
    "        for images, labels in test:\n",
    "            labels = labels.long()\n",
    "            images = images.float()\n",
    "            outputs = ff_model(images)\n",
    "            loss = criterion(outputs, labels)\n",
    "            val_loss += loss.item()\n",
    "            predicted = torch.argmax(outputs)\n",
    "            total += 1\n",
    "\n",
    "            correct += (predicted == labels).sum().item()\n",
    "    \n",
    "    print(f\"Epoch {epoch+1}/{epochs}, Training Loss: {running_loss/len(train_loader):.4f}, Validation Loss: {val_loss/len(val_loader):.4f}, Validation Accuracy: {100 * correct / total:.2f}%\")\n",
    "\n",
    "    "
   ]
  },
  {
   "cell_type": "code",
   "execution_count": 38,
   "id": "b1de9675",
   "metadata": {},
   "outputs": [],
   "source": [
    "input_leaf = BernoulliLeaf(T, V, C)         # Gaussian for pixel inputs\n",
    "output_leaf = CategoricalLeaf(T, 1, C, 10)  # Categorical for class labels\n",
    "mixed_model_mini = Sequential(multi_leaf,\n",
    "                     Weightsum(T, V + 1, C)) "
   ]
  },
  {
   "cell_type": "code",
   "execution_count": 39,
   "id": "d6c7237f",
   "metadata": {},
   "outputs": [
    {
     "name": "stderr",
     "output_type": "stream",
     "text": [
      "Epoch 100, Avg P: -33.1360: 100%|██████████| 100/100 [00:09<00:00, 10.14it/s]\n"
     ]
    }
   ],
   "source": [
    "mixed_model_mini.train()\n",
    "tp.utils.model.train(mixed_model_mini, [concatenated[:1000]], device = device, epochs = 100, show_progress=True)"
   ]
  },
  {
   "cell_type": "code",
   "execution_count": 214,
   "id": "b4e42a80",
   "metadata": {},
   "outputs": [
    {
     "name": "stdout",
     "output_type": "stream",
     "text": [
      "tensor([1., 1., 1., 1., 1., 0., 1., 1., 1., 0., 1., 1., 1., 1., 1., 0., 0., 0.,\n",
      "        0., 0., 0., 1., 1., 1., 1., 1., 1., 0., 0., 0., 0., 1., 0., 0., 0., 1.,\n",
      "        0., 1., 0., 1., 1., 1., 0., 1., 0., 0., 0., 1., 1., 1., 1., 0., 1., 1.,\n",
      "        1., 1., 0., 0., 0., 0., 1., 1., 1., 1., 1., 1., 0., 0., 1., 1., 0., 0.,\n",
      "        1., 0., 1., 1., 0., 0., 1., 0., 1., 1., 0., 0., 1., 0., 1., 1., 0., 0.,\n",
      "        1., 1., 0., 0., 0., 0., nan])\n",
      "torch.Size([100, 97])\n",
      "tensor(0.9060)\n"
     ]
    }
   ],
   "source": [
    "leaves_types = [\"B\"] * 96 + [\"C\"]\n",
    "\n",
    "\n",
    "imp_func = lambda model, batch, device: tp.utils.impute.impute(model, batch, leaves_types, device = device)\n",
    "\n",
    "#We can now impute the data introducing some randomn missing values\n",
    "\n",
    "p = 0.5\n",
    "mXtest = torch.clone(concatenated_test)\n",
    "\n",
    "print(mXtest[0])\n",
    "\n",
    "b_mXtest = tp.utils.data.batch(mXtest, 100)\n",
    "\n",
    "print(b_mXtest[0].shape)\n",
    "\n",
    "Ximputed = tp.utils.impute.b_impute(mixed_model_mini.train(), b_mXtest , imp_func, device)\n",
    "\n",
    "predicted_label = Ximputed[:,-1]\n",
    "\n",
    "\n",
    "num_correct = torch.sum(predicted_label == Ytest)\n",
    "print(num_correct/frac_test)"
   ]
  },
  {
   "cell_type": "markdown",
   "id": "2ffd8c28",
   "metadata": {},
   "source": [
    "# Experiment 2: missing data"
   ]
  },
  {
   "cell_type": "markdown",
   "id": "6a344ce0",
   "metadata": {},
   "source": [
    "### Missing data - Mixed model"
   ]
  },
  {
   "cell_type": "code",
   "execution_count": 226,
   "id": "62f2a0bb",
   "metadata": {},
   "outputs": [],
   "source": [
    "concatenated_test_1000 = torch.clone(concatenated_test[:1000, ])"
   ]
  },
  {
   "cell_type": "code",
   "execution_count": 237,
   "id": "b6a853ef",
   "metadata": {},
   "outputs": [],
   "source": [
    "concatenated_test_1000[:, :64] = float(\"nan\")"
   ]
  },
  {
   "cell_type": "code",
   "execution_count": 238,
   "id": "80411b8a",
   "metadata": {},
   "outputs": [
    {
     "name": "stdout",
     "output_type": "stream",
     "text": [
      "tensor(0.8150)\n"
     ]
    }
   ],
   "source": [
    "leaves_types = [\"B\"] * 96 + [\"C\"]\n",
    "\n",
    "\n",
    "imp_func = lambda model, batch, device: tp.utils.impute.impute(model, batch, leaves_types, device = device)\n",
    "\n",
    "#We can now impute the data introducing some randomn missing values\n",
    "\n",
    "p = 0.5\n",
    "mXtest = torch.clone(concatenated_test_1000)\n",
    "\n",
    "b_mXtest = tp.utils.data.batch(mXtest, 100)\n",
    "\n",
    "\n",
    "Ximputed = tp.utils.impute.b_impute(mixed_model.train(), b_mXtest , imp_func, device)\n",
    "\n",
    "predicted_label = Ximputed[:,-1]\n",
    "\n",
    "\n",
    "num_correct = torch.sum(predicted_label == Ytest[:1000])\n",
    "print(num_correct/len(Ytest[:1000]))"
   ]
  },
  {
   "cell_type": "markdown",
   "id": "8050598c",
   "metadata": {},
   "source": [
    "### Missing data - FFN"
   ]
  },
  {
   "cell_type": "code",
   "execution_count": 215,
   "id": "1266a441",
   "metadata": {},
   "outputs": [
    {
     "name": "stdout",
     "output_type": "stream",
     "text": [
      "ff_Model(\n",
      "  (fc1): Linear(in_features=96, out_features=76, bias=True)\n",
      "  (fc2): Linear(in_features=76, out_features=10, bias=True)\n",
      "  (print_size): PrintSize()\n",
      ")\n"
     ]
    },
    {
     "name": "stderr",
     "output_type": "stream",
     "text": [
      "C:\\Users\\Milosz\\AppData\\Local\\Temp\\ipykernel_6376\\376980080.py:24: UserWarning: To copy construct from a tensor, it is recommended to use sourceTensor.clone().detach() or sourceTensor.clone().detach().requires_grad_(True), rather than torch.tensor(sourceTensor).\n",
      "  labels = torch.tensor(labels.long())\n"
     ]
    },
    {
     "name": "stdout",
     "output_type": "stream",
     "text": [
      "Epoch 1/10, Training Loss: 22.8326, Validation Loss: 9.7032, Validation Accuracy: 89.40%\n",
      "Epoch 2/10, Training Loss: 13.2437, Validation Loss: 9.2504, Validation Accuracy: 90.60%\n",
      "Epoch 3/10, Training Loss: 10.9003, Validation Loss: 9.0103, Validation Accuracy: 91.20%\n",
      "Epoch 4/10, Training Loss: 9.2502, Validation Loss: 9.4070, Validation Accuracy: 90.80%\n",
      "Epoch 5/10, Training Loss: 7.9593, Validation Loss: 10.0089, Validation Accuracy: 90.80%\n",
      "Epoch 6/10, Training Loss: 6.7399, Validation Loss: 10.4092, Validation Accuracy: 90.70%\n",
      "Epoch 7/10, Training Loss: 5.7114, Validation Loss: 10.8915, Validation Accuracy: 90.50%\n",
      "Epoch 8/10, Training Loss: 4.9226, Validation Loss: 11.4151, Validation Accuracy: 90.60%\n",
      "Epoch 9/10, Training Loss: 4.2606, Validation Loss: 12.2488, Validation Accuracy: 91.00%\n",
      "Epoch 10/10, Training Loss: 3.7290, Validation Loss: 13.7986, Validation Accuracy: 90.40%\n"
     ]
    }
   ],
   "source": [
    "# Initialize the network, loss function, and optimizer\n",
    "import torch.optim as optim\n",
    "\n",
    "ff_model = ff_Model(10)\n",
    "device = torch.device('cpu')  # use cuda or cpu\n",
    "ff_model.to(device)\n",
    "print(ff_model)\n",
    "\n",
    "\n",
    "criterion = nn.CrossEntropyLoss()\n",
    "optimizer = optim.Adam(ff_model.parameters(), lr=0.001)\n",
    "\n",
    "# Train the model\n",
    "epochs = 10\n",
    "batch_10 = get_mini_batch(0, 7000)\n",
    "#print(batch_10.shape)\n",
    "for epoch in range(epochs):\n",
    "    ff_model.train()\n",
    "    running_loss = 0.0\n",
    "    for images, labels in batch_10:\n",
    "        # Zero the parameter gradients\n",
    "        optimizer.zero_grad()\n",
    "        # Convert labels to Long type\n",
    "        labels = torch.tensor(labels.long())\n",
    "        \n",
    "        # Forward pass\n",
    "        outputs = ff_model(images)\n",
    "        loss = criterion(outputs, labels)\n",
    "        \n",
    "        # Backward pass and optimization\n",
    "        loss.backward()\n",
    "        optimizer.step()\n",
    "        \n",
    "        running_loss += loss.item()\n",
    "    \n",
    "\n",
    "    # Validation step\n",
    "    ff_model.eval()\n",
    "    val_loss = 0.0\n",
    "    correct = 0\n",
    "    total = 0\n",
    "    test = get_mini_batch(7000, 8000)\n",
    "    with torch.no_grad():\n",
    "        for images, labels in test:\n",
    "            labels = labels.long()\n",
    "            images = images.float()\n",
    "            outputs = ff_model(images)\n",
    "            loss = criterion(outputs, labels)\n",
    "            val_loss += loss.item()\n",
    "            predicted = torch.argmax(outputs)\n",
    "            total += 1\n",
    "\n",
    "            correct += (predicted == labels).sum().item()\n",
    "    \n",
    "    print(f\"Epoch {epoch+1}/{epochs}, Training Loss: {running_loss/len(train_loader):.4f}, Validation Loss: {val_loss/len(val_loader):.4f}, Validation Accuracy: {100 * correct / total:.2f}%\")\n",
    "\n",
    "    "
   ]
  },
  {
   "cell_type": "code",
   "execution_count": 224,
   "id": "79d40e94",
   "metadata": {},
   "outputs": [
    {
     "name": "stdout",
     "output_type": "stream",
     "text": [
      "Epoch 10/10, Training Loss: 3.7290, Validation Loss: 64.9627, Validation Accuracy: 49.10%\n"
     ]
    }
   ],
   "source": [
    "\n",
    "# Validation step\n",
    "ff_model.eval()\n",
    "val_loss = 0.0\n",
    "correct = 0\n",
    "total = 0\n",
    "accs = []\n",
    "test = get_mini_batch(7000, 8000).copy()\n",
    "\n",
    "with torch.no_grad():\n",
    "    for images, labels in test:\n",
    "        labels = labels.long()\n",
    "        images = images.float()\n",
    "        images[:64] = 0\n",
    "        outputs = ff_model(images)\n",
    "        loss = criterion(outputs, labels)\n",
    "        val_loss += loss.item()\n",
    "        predicted = torch.argmax(outputs)\n",
    "        total += 1\n",
    "\n",
    "        correct += (predicted == labels).sum().item()\n",
    "\n",
    "print(f\"Epoch {epoch+1}/{epochs}, Training Loss: {running_loss/len(train_loader):.4f}, Validation Loss: {val_loss/len(val_loader):.4f}, Validation Accuracy: {100 * correct / total:.2f}%\")\n",
    "acc = correct / total\n",
    "accs.append(acc)\n"
   ]
  },
  {
   "cell_type": "markdown",
   "id": "cc142f0d",
   "metadata": {},
   "source": [
    "# Plots"
   ]
  },
  {
   "cell_type": "markdown",
   "id": "834516ce",
   "metadata": {},
   "source": [
    "### TRain size\n"
   ]
  },
  {
   "cell_type": "code",
   "execution_count": 44,
   "id": "0df351a3",
   "metadata": {},
   "outputs": [
    {
     "data": {
      "image/png": "[encoded data removed]",
      "text/plain": [
       "<Figure size 1000x600 with 1 Axes>"
      ]
     },
     "metadata": {},
     "output_type": "display_data"
    }
   ],
   "source": [
    "\n",
    "CNN_accs = [17, 49.25, 85]\n",
    "PC_accs = [37.75, 42, 44.95]\n",
    "\n",
    "\n",
    "# Example data\n",
    "x_labels = [\"10\", \"100\", \"1000\"]  # Custom x-axis labels\n",
    "test_accuracy_model1 = CNN_accs\n",
    "test_accuracy_model2 = PC_accs\n",
    "\n",
    "\n",
    "# Create the plot\n",
    "plt.figure(figsize=(10, 6))  # Set figure size for better clarity\n",
    "\n",
    "# Plot the lines\n",
    "plt.plot(x_labels, test_accuracy_model1, label='CNN Model', marker='o', linestyle='-', c = \"green\", linewidth=2)\n",
    "plt.plot(x_labels, test_accuracy_model2, label='Mixed PC Model', marker='s', linestyle='--', c = \"orange\", linewidth=2)\n",
    "\n",
    "# Add title and labels\n",
    "plt.title('Test Accuracy Comparison', fontsize=16)\n",
    "plt.xlabel('Training Size', fontsize=14)\n",
    "plt.ylabel('Test Accuracy', fontsize=14)\n",
    "\n",
    "# Customize x-ticks\n",
    "plt.xticks(x_labels, fontsize=12)\n",
    "\n",
    "# Add grid for better readability\n",
    "plt.grid(alpha=0.5, linestyle='--')\n",
    "\n",
    "# Add legend\n",
    "plt.legend(fontsize=12)\n",
    "\n",
    "# Show plot\n",
    "plt.tight_layout()\n",
    "plt.show()\n"
   ]
  },
  {
   "cell_type": "markdown",
   "id": "bcfff95e",
   "metadata": {},
   "source": [
    "### Accuracies"
   ]
  },
  {
   "cell_type": "code",
   "execution_count": 45,
   "id": "e2f144e0",
   "metadata": {},
   "outputs": [
    {
     "data": {
      "text/plain": [
       "[<matplotlib.lines.Line2D at 0x1cc8d8946d0>]"
      ]
     },
     "execution_count": 45,
     "metadata": {},
     "output_type": "execute_result"
    },
    {
     "data": {
      "image/png": "[encoded data removed]",
      "text/plain": [
       "<Figure size 640x480 with 1 Axes>"
      ]
     },
     "metadata": {},
     "output_type": "display_data"
    }
   ],
   "source": [
    "# Mixed Model accs \n",
    "#accs.tolist()\n",
    "basline_list = list(acc.item() for acc in accs_baseline)\n",
    "pc_list =  list(acc.item() for acc in accs)\n",
    "plt.figure()\n",
    "plt.plot(basline_list)"
   ]
  },
  {
   "cell_type": "code",
   "execution_count": 46,
   "id": "7103cdbb",
   "metadata": {},
   "outputs": [
    {
     "ename": "ValueError",
     "evalue": "x and y must have same first dimension, but have shapes (10,) and (1,)",
     "output_type": "error",
     "traceback": [
      "\u001b[1;31m---------------------------------------------------------------------------\u001b[0m",
      "\u001b[1;31mValueError\u001b[0m                                Traceback (most recent call last)",
      "Cell \u001b[1;32mIn[46], line 17\u001b[0m\n\u001b[0;32m     14\u001b[0m plt\u001b[38;5;241m.\u001b[39mfigure(figsize\u001b[38;5;241m=\u001b[39m(\u001b[38;5;241m10\u001b[39m, \u001b[38;5;241m6\u001b[39m))  \u001b[38;5;66;03m# Set figure size for better clarity\u001b[39;00m\n\u001b[0;32m     16\u001b[0m \u001b[38;5;66;03m# Plot the lines\u001b[39;00m\n\u001b[1;32m---> 17\u001b[0m \u001b[43mplt\u001b[49m\u001b[38;5;241;43m.\u001b[39;49m\u001b[43mplot\u001b[49m\u001b[43m(\u001b[49m\u001b[43mepochs\u001b[49m\u001b[43m,\u001b[49m\u001b[43m \u001b[49m\u001b[43mtest_accuracy_model1\u001b[49m\u001b[43m,\u001b[49m\u001b[43m \u001b[49m\u001b[43mlabel\u001b[49m\u001b[38;5;241;43m=\u001b[39;49m\u001b[38;5;124;43m'\u001b[39;49m\u001b[38;5;124;43mBaseline PC Model\u001b[39;49m\u001b[38;5;124;43m'\u001b[39;49m\u001b[43m,\u001b[49m\u001b[43m \u001b[49m\u001b[43mlinestyle\u001b[49m\u001b[38;5;241;43m=\u001b[39;49m\u001b[38;5;124;43m'\u001b[39;49m\u001b[38;5;124;43m-\u001b[39;49m\u001b[38;5;124;43m'\u001b[39;49m\u001b[43m,\u001b[49m\u001b[43m \u001b[49m\u001b[43mlinewidth\u001b[49m\u001b[38;5;241;43m=\u001b[39;49m\u001b[38;5;241;43m2\u001b[39;49m\u001b[43m)\u001b[49m\n\u001b[0;32m     18\u001b[0m plt\u001b[38;5;241m.\u001b[39mplot(epochs, test_accuracy_model2, label\u001b[38;5;241m=\u001b[39m\u001b[38;5;124m'\u001b[39m\u001b[38;5;124mMixed PC Model\u001b[39m\u001b[38;5;124m'\u001b[39m, linestyle\u001b[38;5;241m=\u001b[39m\u001b[38;5;124m'\u001b[39m\u001b[38;5;124m--\u001b[39m\u001b[38;5;124m'\u001b[39m, linewidth\u001b[38;5;241m=\u001b[39m\u001b[38;5;241m2\u001b[39m)\n\u001b[0;32m     19\u001b[0m plt\u001b[38;5;241m.\u001b[39mplot(epochs, test_accuracy_model3, label\u001b[38;5;241m=\u001b[39m\u001b[38;5;124m'\u001b[39m\u001b[38;5;124mCNN Model\u001b[39m\u001b[38;5;124m'\u001b[39m, linestyle\u001b[38;5;241m=\u001b[39m\u001b[38;5;124m'\u001b[39m\u001b[38;5;124m-.\u001b[39m\u001b[38;5;124m'\u001b[39m, linewidth\u001b[38;5;241m=\u001b[39m\u001b[38;5;241m2\u001b[39m)\n",
      "File \u001b[1;32mc:\\Users\\Milosz\\miniconda3\\envs\\dl_project\\lib\\site-packages\\matplotlib\\pyplot.py:3794\u001b[0m, in \u001b[0;36mplot\u001b[1;34m(scalex, scaley, data, *args, **kwargs)\u001b[0m\n\u001b[0;32m   3786\u001b[0m \u001b[38;5;129m@_copy_docstring_and_deprecators\u001b[39m(Axes\u001b[38;5;241m.\u001b[39mplot)\n\u001b[0;32m   3787\u001b[0m \u001b[38;5;28;01mdef\u001b[39;00m \u001b[38;5;21mplot\u001b[39m(\n\u001b[0;32m   3788\u001b[0m     \u001b[38;5;241m*\u001b[39margs: \u001b[38;5;28mfloat\u001b[39m \u001b[38;5;241m|\u001b[39m ArrayLike \u001b[38;5;241m|\u001b[39m \u001b[38;5;28mstr\u001b[39m,\n\u001b[1;32m   (...)\u001b[0m\n\u001b[0;32m   3792\u001b[0m     \u001b[38;5;241m*\u001b[39m\u001b[38;5;241m*\u001b[39mkwargs,\n\u001b[0;32m   3793\u001b[0m ) \u001b[38;5;241m-\u001b[39m\u001b[38;5;241m>\u001b[39m \u001b[38;5;28mlist\u001b[39m[Line2D]:\n\u001b[1;32m-> 3794\u001b[0m     \u001b[38;5;28;01mreturn\u001b[39;00m gca()\u001b[38;5;241m.\u001b[39mplot(\n\u001b[0;32m   3795\u001b[0m         \u001b[38;5;241m*\u001b[39margs,\n\u001b[0;32m   3796\u001b[0m         scalex\u001b[38;5;241m=\u001b[39mscalex,\n\u001b[0;32m   3797\u001b[0m         scaley\u001b[38;5;241m=\u001b[39mscaley,\n\u001b[0;32m   3798\u001b[0m         \u001b[38;5;241m*\u001b[39m\u001b[38;5;241m*\u001b[39m({\u001b[38;5;124m\"\u001b[39m\u001b[38;5;124mdata\u001b[39m\u001b[38;5;124m\"\u001b[39m: data} \u001b[38;5;28;01mif\u001b[39;00m data \u001b[38;5;129;01mis\u001b[39;00m \u001b[38;5;129;01mnot\u001b[39;00m \u001b[38;5;28;01mNone\u001b[39;00m \u001b[38;5;28;01melse\u001b[39;00m {}),\n\u001b[0;32m   3799\u001b[0m         \u001b[38;5;241m*\u001b[39m\u001b[38;5;241m*\u001b[39mkwargs,\n\u001b[0;32m   3800\u001b[0m     )\n",
      "File \u001b[1;32mc:\\Users\\Milosz\\miniconda3\\envs\\dl_project\\lib\\site-packages\\matplotlib\\axes\\_axes.py:1779\u001b[0m, in \u001b[0;36mAxes.plot\u001b[1;34m(self, scalex, scaley, data, *args, **kwargs)\u001b[0m\n\u001b[0;32m   1536\u001b[0m \u001b[38;5;250m\u001b[39m\u001b[38;5;124;03m\"\"\"\u001b[39;00m\n\u001b[0;32m   1537\u001b[0m \u001b[38;5;124;03mPlot y versus x as lines and/or markers.\u001b[39;00m\n\u001b[0;32m   1538\u001b[0m \n\u001b[1;32m   (...)\u001b[0m\n\u001b[0;32m   1776\u001b[0m \u001b[38;5;124;03m(``'green'``) or hex strings (``'#008000'``).\u001b[39;00m\n\u001b[0;32m   1777\u001b[0m \u001b[38;5;124;03m\"\"\"\u001b[39;00m\n\u001b[0;32m   1778\u001b[0m kwargs \u001b[38;5;241m=\u001b[39m cbook\u001b[38;5;241m.\u001b[39mnormalize_kwargs(kwargs, mlines\u001b[38;5;241m.\u001b[39mLine2D)\n\u001b[1;32m-> 1779\u001b[0m lines \u001b[38;5;241m=\u001b[39m [\u001b[38;5;241m*\u001b[39m\u001b[38;5;28mself\u001b[39m\u001b[38;5;241m.\u001b[39m_get_lines(\u001b[38;5;28mself\u001b[39m, \u001b[38;5;241m*\u001b[39margs, data\u001b[38;5;241m=\u001b[39mdata, \u001b[38;5;241m*\u001b[39m\u001b[38;5;241m*\u001b[39mkwargs)]\n\u001b[0;32m   1780\u001b[0m \u001b[38;5;28;01mfor\u001b[39;00m line \u001b[38;5;129;01min\u001b[39;00m lines:\n\u001b[0;32m   1781\u001b[0m     \u001b[38;5;28mself\u001b[39m\u001b[38;5;241m.\u001b[39madd_line(line)\n",
      "File \u001b[1;32mc:\\Users\\Milosz\\miniconda3\\envs\\dl_project\\lib\\site-packages\\matplotlib\\axes\\_base.py:296\u001b[0m, in \u001b[0;36m_process_plot_var_args.__call__\u001b[1;34m(self, axes, data, *args, **kwargs)\u001b[0m\n\u001b[0;32m    294\u001b[0m     this \u001b[38;5;241m+\u001b[39m\u001b[38;5;241m=\u001b[39m args[\u001b[38;5;241m0\u001b[39m],\n\u001b[0;32m    295\u001b[0m     args \u001b[38;5;241m=\u001b[39m args[\u001b[38;5;241m1\u001b[39m:]\n\u001b[1;32m--> 296\u001b[0m \u001b[38;5;28;01myield from\u001b[39;00m \u001b[38;5;28;43mself\u001b[39;49m\u001b[38;5;241;43m.\u001b[39;49m\u001b[43m_plot_args\u001b[49m\u001b[43m(\u001b[49m\n\u001b[0;32m    297\u001b[0m \u001b[43m    \u001b[49m\u001b[43maxes\u001b[49m\u001b[43m,\u001b[49m\u001b[43m \u001b[49m\u001b[43mthis\u001b[49m\u001b[43m,\u001b[49m\u001b[43m \u001b[49m\u001b[43mkwargs\u001b[49m\u001b[43m,\u001b[49m\u001b[43m \u001b[49m\u001b[43mambiguous_fmt_datakey\u001b[49m\u001b[38;5;241;43m=\u001b[39;49m\u001b[43mambiguous_fmt_datakey\u001b[49m\u001b[43m)\u001b[49m\n",
      "File \u001b[1;32mc:\\Users\\Milosz\\miniconda3\\envs\\dl_project\\lib\\site-packages\\matplotlib\\axes\\_base.py:486\u001b[0m, in \u001b[0;36m_process_plot_var_args._plot_args\u001b[1;34m(self, axes, tup, kwargs, return_kwargs, ambiguous_fmt_datakey)\u001b[0m\n\u001b[0;32m    483\u001b[0m     axes\u001b[38;5;241m.\u001b[39myaxis\u001b[38;5;241m.\u001b[39mupdate_units(y)\n\u001b[0;32m    485\u001b[0m \u001b[38;5;28;01mif\u001b[39;00m x\u001b[38;5;241m.\u001b[39mshape[\u001b[38;5;241m0\u001b[39m] \u001b[38;5;241m!=\u001b[39m y\u001b[38;5;241m.\u001b[39mshape[\u001b[38;5;241m0\u001b[39m]:\n\u001b[1;32m--> 486\u001b[0m     \u001b[38;5;28;01mraise\u001b[39;00m \u001b[38;5;167;01mValueError\u001b[39;00m(\u001b[38;5;124mf\u001b[39m\u001b[38;5;124m\"\u001b[39m\u001b[38;5;124mx and y must have same first dimension, but \u001b[39m\u001b[38;5;124m\"\u001b[39m\n\u001b[0;32m    487\u001b[0m                      \u001b[38;5;124mf\u001b[39m\u001b[38;5;124m\"\u001b[39m\u001b[38;5;124mhave shapes \u001b[39m\u001b[38;5;132;01m{\u001b[39;00mx\u001b[38;5;241m.\u001b[39mshape\u001b[38;5;132;01m}\u001b[39;00m\u001b[38;5;124m and \u001b[39m\u001b[38;5;132;01m{\u001b[39;00my\u001b[38;5;241m.\u001b[39mshape\u001b[38;5;132;01m}\u001b[39;00m\u001b[38;5;124m\"\u001b[39m)\n\u001b[0;32m    488\u001b[0m \u001b[38;5;28;01mif\u001b[39;00m x\u001b[38;5;241m.\u001b[39mndim \u001b[38;5;241m>\u001b[39m \u001b[38;5;241m2\u001b[39m \u001b[38;5;129;01mor\u001b[39;00m y\u001b[38;5;241m.\u001b[39mndim \u001b[38;5;241m>\u001b[39m \u001b[38;5;241m2\u001b[39m:\n\u001b[0;32m    489\u001b[0m     \u001b[38;5;28;01mraise\u001b[39;00m \u001b[38;5;167;01mValueError\u001b[39;00m(\u001b[38;5;124mf\u001b[39m\u001b[38;5;124m\"\u001b[39m\u001b[38;5;124mx and y can be no greater than 2D, but have \u001b[39m\u001b[38;5;124m\"\u001b[39m\n\u001b[0;32m    490\u001b[0m                      \u001b[38;5;124mf\u001b[39m\u001b[38;5;124m\"\u001b[39m\u001b[38;5;124mshapes \u001b[39m\u001b[38;5;132;01m{\u001b[39;00mx\u001b[38;5;241m.\u001b[39mshape\u001b[38;5;132;01m}\u001b[39;00m\u001b[38;5;124m and \u001b[39m\u001b[38;5;132;01m{\u001b[39;00my\u001b[38;5;241m.\u001b[39mshape\u001b[38;5;132;01m}\u001b[39;00m\u001b[38;5;124m\"\u001b[39m)\n",
      "\u001b[1;31mValueError\u001b[0m: x and y must have same first dimension, but have shapes (10,) and (1,)"
     ]
    },
    {
     "data": {
      "image/png": "[encoded data removed]",
      "text/plain": [
       "<Figure size 1000x600 with 1 Axes>"
      ]
     },
     "metadata": {},
     "output_type": "display_data"
    }
   ],
   "source": [
    "import matplotlib.pyplot as plt\n",
    "\n",
    "# Example data\n",
    "epochs = range(1, 11)  # Assuming 10 epochs\n",
    "test_accuracy_model1 = basline_list\n",
    "# final acc: 58.55\n",
    "test_accuracy_model2 = pc_list\n",
    "# final acc: 93.5\n",
    "test_accuracy_model3 = accs_cnn\n",
    "# final acc: 93.5\n",
    "\n",
    "\n",
    "# Create the plot\n",
    "plt.figure(figsize=(10, 6))  # Set figure size for better clarity\n",
    "\n",
    "# Plot the lines\n",
    "plt.plot(epochs, test_accuracy_model1, label='Baseline PC Model', linestyle='-', linewidth=2)\n",
    "plt.plot(epochs, test_accuracy_model2, label='Mixed PC Model', linestyle='--', linewidth=2)\n",
    "plt.plot(epochs, test_accuracy_model3, label='CNN Model', linestyle='-.', linewidth=2)\n",
    "\n",
    "# Add title and labels\n",
    "plt.title('Test Accuracy Comparison', fontsize=16)\n",
    "plt.xlabel('Epochs', fontsize=14)\n",
    "plt.ylabel('Test Accuracy', fontsize=14)\n",
    "\n",
    "# Add grid for better readability\n",
    "plt.grid(alpha=0.5, linestyle='--')\n",
    "\n",
    "# Add legend\n",
    "plt.legend(fontsize=12)\n",
    "\n",
    "# Show plot\n",
    "plt.tight_layout()\n",
    "plt.show()\n"
   ]
  },
  {
   "cell_type": "code",
   "execution_count": 526,
   "id": "ad254fb9",
   "metadata": {},
   "outputs": [
    {
     "name": "stdout",
     "output_type": "stream",
     "text": [
      "final accuracies: baseline: 0.58, mixed model: 0.88, CNN: 0.94\n"
     ]
    }
   ],
   "source": [
    "print(f\"final accuracies: baseline: {round(basline_list[-1], 2)}, mixed model: {round(pc_list[-1], 2)}, CNN: {round(accs_cnn[-1], 2)}\")"
   ]
  },
  {
   "cell_type": "markdown",
   "id": "29b21ad6",
   "metadata": {},
   "source": [
    "### Plot missing data accuracies"
   ]
  },
  {
   "cell_type": "code",
   "execution_count": null,
   "id": "e1c50592",
   "metadata": {},
   "outputs": [],
   "source": [
    "# FFN missing accs\n",
    "fnn_accs = [88.90, 69.00, 72.60, 49.10]\n",
    "mm_accs = [0.8880, 0.8810, 0.8830, 0.8150]"
   ]
  },
  {
   "cell_type": "code",
   "execution_count": 245,
   "id": "de8f94a2",
   "metadata": {},
   "outputs": [
    {
     "data": {
      "image/png": "[encoded data removed]",
      "text/plain": [
       "<Figure size 1000x600 with 1 Axes>"
      ]
     },
     "metadata": {},
     "output_type": "display_data"
    }
   ],
   "source": [
    "fnn_accs = list(a*0.01 for a in [88.90, 69.00, 72.60, 49.10])\n",
    "mm_accs = [0.8880, 0.8810, 0.8830, 0.8150]\n",
    "\n",
    "\n",
    "# Example data\n",
    "x_labels = list(str(a) for a in [4, 16, 32, 64])  # Custom x-axis labels\n",
    "test_accuracy_model1 = fnn_accs\n",
    "test_accuracy_model2 = mm_accs\n",
    "\n",
    "\n",
    "# Create the plot\n",
    "plt.figure(figsize=(10, 6))  # Set figure size for better clarity\n",
    "\n",
    "# Plot the lines\n",
    "plt.plot(x_labels, test_accuracy_model1, label='FFN Model', marker='o', linestyle='-', c = \"green\", linewidth=2)\n",
    "plt.plot(x_labels, test_accuracy_model2, label='Mixed PC Model', marker='s', linestyle='--', c = \"orange\", linewidth=2)\n",
    "\n",
    "# Add title and labels\n",
    "plt.title('Missing Data Test Accuracy Comparison', fontsize=16)\n",
    "plt.xlabel('Size of missing data (out of 96)', fontsize=14)\n",
    "plt.ylabel('Test Accuracy', fontsize=14)\n",
    "\n",
    "# Customize x-ticks\n",
    "plt.xticks(x_labels, fontsize=12)\n",
    "\n",
    "# Add grid for better readability\n",
    "plt.grid(alpha=0.5, linestyle='--')\n",
    "\n",
    "# Add legend\n",
    "plt.legend(fontsize=12)\n",
    "\n",
    "# Show plot\n",
    "plt.tight_layout()\n",
    "plt.show()\n"
   ]
  }
 ],
 "metadata": {
  "kernelspec": {
   "display_name": "DeepLearning",
   "language": "python",
   "name": "deeplearning"
  },
  "language_info": {
   "codemirror_mode": {
    "name": "ipython",
    "version": 3
   },
   "file_extension": ".py",
   "mimetype": "text/x-python",
   "name": "python",
   "nbconvert_exporter": "python",
   "pygments_lexer": "ipython3",
   "version": "3.10.15"
  }
 },
 "nbformat": 4,
 "nbformat_minor": 5
}
