{
 "cells": [
  {
   "cell_type": "markdown",
   "id": "fd615175",
   "metadata": {},
   "source": [
    "# Data imports\n"
   ]
  },
  {
   "cell_type": "code",
   "execution_count": 74,
   "id": "a496382e-a10b-4da8-bfb1-35f6789ccb51",
   "metadata": {},
   "outputs": [
    {
     "data": {
      "text/plain": [
       "<torch._C.Generator at 0x21954f85830>"
      ]
     },
     "execution_count": 74,
     "metadata": {},
     "output_type": "execute_result"
    }
   ],
   "source": [
    "import TNSPC as tp\n",
    "import torch\n",
    "\n",
    "device = torch.device('cpu')\n",
    "#to use cude need to install the package independently\n",
    "#device = torch.device('cuda')\n",
    "torch.manual_seed(0)"
   ]
  },
  {
   "cell_type": "markdown",
   "id": "ec35ed74-d2b4-4f12-a90c-1c9968f395c2",
   "metadata": {},
   "source": [
    "### Importing mnist and saving to arff file"
   ]
  },
  {
   "cell_type": "code",
   "execution_count": 75,
   "id": "2639159c-4142-40b8-bdd6-0c7a5cd5501f",
   "metadata": {},
   "outputs": [
    {
     "name": "stdout",
     "output_type": "stream",
     "text": [
      "Loading MNIST dataset...\n",
      "Converting dataset to DataFrame...\n",
      "ARFF file saved to mnist_2.arff\n"
     ]
    }
   ],
   "source": [
    "import numpy as np\n",
    "import pandas as pd\n",
    "from sklearn.datasets import fetch_openml\n",
    "\n",
    "# Step 1: Load MNIST dataset\n",
    "print(\"Loading MNIST dataset...\")\n",
    "mnist = fetch_openml('mnist_784', version=1)\n",
    "X = mnist.data[:10000]\n",
    "X = X / 255.0\n",
    "y = mnist.target[:10000].astype(int).to_numpy()\n",
    "\n",
    "# Step 2: Convert to Pandas DataFrame\n",
    "print(\"Converting dataset to DataFrame...\")\n",
    "df = pd.DataFrame(X, columns=[f'pixel{i}' for i in range(1, X.shape[1]+2)])\n",
    "#df['class'] = y  # Append labels as the last column\n",
    "\n",
    "\n",
    "# Step 3: Write to ARFF file manually\n",
    "def write_arff(df, filename, relation_name, class_labels):\n",
    "    with open(filename, 'w') as f:\n",
    "        # Write relation name\n",
    "        f.write(f\"@relation {relation_name}\\n\\n\")\n",
    "        \n",
    "        # Write attributes\n",
    "        for column in df.columns[:-1]:\n",
    "            f.write(f\"@attribute {column} numeric\\n\")\n",
    "        f.write(f\"@attribute class_labels {{{','.join(map(str, class_labels))}}}\\n\\n\")\n",
    "        # Write data\n",
    "        f.write(\"@data\\n\")\n",
    "        for row in df.values:\n",
    "            f.write(','.join(map(str, row)) + '\\n')\n",
    "\n",
    "output_file = 'mnist_2.arff'\n",
    "write_arff(df, output_file, relation_name='mnist', class_labels=range(10))\n",
    "\n",
    "print(f\"ARFF file saved to {output_file}\")\n"
   ]
  },
  {
   "cell_type": "markdown",
   "id": "0487766c-5de4-4b50-bf61-b053e47c4118",
   "metadata": {},
   "source": [
    "### Loading in the data from the arff file"
   ]
  },
  {
   "cell_type": "code",
   "execution_count": 76,
   "id": "bc5a73ab-8b2e-4693-bc94-7090a6b5f4ee",
   "metadata": {},
   "outputs": [
    {
     "name": "stdout",
     "output_type": "stream",
     "text": [
      "(10000, 784)\n",
      "torch.Size([8000, 784])\n",
      "(8000,)\n"
     ]
    }
   ],
   "source": [
    "import TNSPC as tp\n",
    "import torch\n",
    "import torch.nn.functional as F\n",
    "import matplotlib.pyplot as plt\n",
    "from TNSPC.utils.utils import drawnow, arrange_figs\n",
    "from TNSPC.layers.leaves import *\n",
    "from TNSPC.layers.tn import *\n",
    "from TNSPC.layers.spn import *\n",
    "from TNSPC.layers.TNSPCclass import *\n",
    "from TNSPC.utils.model import *\n",
    "\n",
    "\n",
    "file_path = \"mnist.arff\"\n",
    "\n",
    "df, attribute_mapping, leaves_types = tp.utils.data.hetdata(file_path, reorder=True)\n",
    "print(df.values.shape)\n",
    "\n",
    "frac_train = int(0.8*len(df))\n",
    "frac_test = len(df) - int(0.8*len(df))\n",
    "Xtrain = torch.tensor(df.values[:frac_train]).float()\n",
    "\n",
    "print(Xtrain.shape)\n",
    "Xtest = torch.tensor(df.values[frac_train:]).float()\n",
    "print(y[:frac_train].shape)\n",
    "Ytrain = torch.tensor(y[:frac_train]).int()\n",
    "Ytest = torch.tensor(y[frac_train:]).int()\n",
    "\n",
    "#%% Fit model\n",
    "N = frac_train"
   ]
  },
  {
   "cell_type": "markdown",
   "id": "a84e2834",
   "metadata": {},
   "source": [
    "# PC model"
   ]
  },
  {
   "cell_type": "markdown",
   "id": "b5f5f83e",
   "metadata": {},
   "source": [
    "### Model structure"
   ]
  },
  {
   "cell_type": "code",
   "execution_count": null,
   "id": "78b024f8",
   "metadata": {},
   "outputs": [
    {
     "name": "stdout",
     "output_type": "stream",
     "text": [
      "CategoricalLeaf()\n",
      "Sequential(\n",
      "  (0): MultiLeaf(\n",
      "    (0): BernoulliLeaf()\n",
      "    (1): CategoricalLeaf()\n",
      "  )\n",
      "  (1): Weightsum()\n",
      ")\n"
     ]
    }
   ],
   "source": [
    "from TNSPC.layers.leaves import NormalLeaf, CategoricalLeaf\n",
    "from TNSPC.layers.TNSPCclass import MultiLeaf\n",
    "\n",
    "# Hyperparameters\n",
    "T = 1 # Number of tracks\n",
    "C = 10  # Number of channels\n",
    "V = 784  # Number of input variables (e.g., pixels)\n",
    "classes = 10  # Number of output classes (e.g., digits 0-9)\n",
    "\n",
    "# Define individual leaf distributions\n",
    "input_leaf = BernoulliLeaf(T, V, C)         # Gaussian for pixel inputs\n",
    "output_leaf = CategoricalLeaf(T, 1, C, 10)  # Categorical for class labels\n",
    "\n",
    "\n",
    "# Combine them into a MultiLeaf\n",
    "multi_leaf = MultiLeaf(input_leaf, output_leaf)\n",
    "\n",
    "print(multi_leaf[1])\n",
    "\n",
    "pc_model = Sequential(multi_leaf,\n",
    "                     Weightsum(T, V + 1, C)) \n",
    "\n",
    "\n",
    "print(pc_model)"
   ]
  },
  {
   "cell_type": "code",
   "execution_count": 167,
   "id": "a17daf2d",
   "metadata": {},
   "outputs": [],
   "source": [
    "Xtrain = Xtrain > 0"
   ]
  },
  {
   "cell_type": "code",
   "execution_count": 168,
   "id": "799402d8",
   "metadata": {},
   "outputs": [
    {
     "data": {
      "text/plain": [
       "tensor([0., 0., 0., 0., 0., 0., 0., 0., 0., 0., 0., 0., 0., 0., 0., 0., 0., 0.,\n",
       "        0., 0., 0., 0., 0., 0., 0., 0., 0., 0., 0., 0., 0., 0., 0., 0., 0., 0.,\n",
       "        0., 0., 0., 0., 0., 0., 0., 0., 0., 0., 0., 0., 0., 0., 0., 0., 0., 0.,\n",
       "        0., 0., 0., 0., 0., 0., 0., 0., 0., 0., 0., 0., 0., 0., 0., 0., 0., 0.,\n",
       "        0., 0., 0., 0., 0., 0., 0., 0., 0., 0., 0., 0., 0., 0., 0., 0., 0., 0.,\n",
       "        0., 0., 0., 0., 0., 0., 0., 0., 0., 0., 0., 0., 0., 0., 0., 0., 0., 0.,\n",
       "        0., 0., 0., 0., 0., 0., 0., 0., 0., 0., 0., 0., 0., 0., 0., 0., 0., 0.,\n",
       "        0., 0., 0., 0., 0., 0., 0., 0., 0., 0., 0., 0., 0., 0., 0., 0., 0., 0.,\n",
       "        0., 0., 0., 0., 0., 0., 0., 0., 1., 1., 1., 1., 1., 1., 1., 1., 1., 1.,\n",
       "        1., 1., 0., 0., 0., 0., 0., 0., 0., 0., 0., 0., 0., 0., 1., 1., 1., 1.,\n",
       "        1., 1., 1., 1., 1., 1., 1., 1., 1., 1., 1., 1., 0., 0., 0., 0., 0., 0.,\n",
       "        0., 0., 0., 0., 0., 1., 1., 1., 1., 1., 1., 1., 1., 1., 1., 1., 1., 1.,\n",
       "        1., 1., 1., 0., 0., 0., 0., 0., 0., 0., 0., 0., 0., 0., 0., 1., 1., 1.,\n",
       "        1., 1., 1., 1., 1., 1., 1., 1., 0., 0., 0., 0., 0., 0., 0., 0., 0., 0.,\n",
       "        0., 0., 0., 0., 0., 0., 0., 0., 1., 1., 1., 1., 1., 1., 1., 0., 1., 1.,\n",
       "        0., 0., 0., 0., 0., 0., 0., 0., 0., 0., 0., 0., 0., 0., 0., 0., 0., 0.,\n",
       "        0., 1., 1., 1., 1., 1., 0., 0., 0., 0., 0., 0., 0., 0., 0., 0., 0., 0.,\n",
       "        0., 0., 0., 0., 0., 0., 0., 0., 0., 0., 0., 0., 0., 1., 1., 1., 1., 0.,\n",
       "        0., 0., 0., 0., 0., 0., 0., 0., 0., 0., 0., 0., 0., 0., 0., 0., 0., 0.,\n",
       "        0., 0., 0., 0., 0., 1., 1., 1., 1., 0., 0., 0., 0., 0., 0., 0., 0., 0.,\n",
       "        0., 0., 0., 0., 0., 0., 0., 0., 0., 0., 0., 0., 0., 0., 0., 0., 1., 1.,\n",
       "        1., 1., 1., 1., 0., 0., 0., 0., 0., 0., 0., 0., 0., 0., 0., 0., 0., 0.,\n",
       "        0., 0., 0., 0., 0., 0., 0., 0., 0., 1., 1., 1., 1., 1., 1., 0., 0., 0.,\n",
       "        0., 0., 0., 0., 0., 0., 0., 0., 0., 0., 0., 0., 0., 0., 0., 0., 0., 0.,\n",
       "        0., 0., 1., 1., 1., 1., 1., 1., 0., 0., 0., 0., 0., 0., 0., 0., 0., 0.,\n",
       "        0., 0., 0., 0., 0., 0., 0., 0., 0., 0., 0., 0., 0., 1., 1., 1., 1., 1.,\n",
       "        0., 0., 0., 0., 0., 0., 0., 0., 0., 0., 0., 0., 0., 0., 0., 0., 0., 0.,\n",
       "        0., 0., 0., 0., 0., 0., 0., 1., 1., 1., 1., 0., 0., 0., 0., 0., 0., 0.,\n",
       "        0., 0., 0., 0., 0., 0., 0., 0., 0., 0., 0., 0., 0., 0., 1., 1., 1., 1.,\n",
       "        1., 1., 1., 0., 0., 0., 0., 0., 0., 0., 0., 0., 0., 0., 0., 0., 0., 0.,\n",
       "        0., 0., 0., 0., 1., 1., 1., 1., 1., 1., 1., 1., 0., 0., 0., 0., 0., 0.,\n",
       "        0., 0., 0., 0., 0., 0., 0., 0., 0., 0., 0., 0., 1., 1., 1., 1., 1., 1.,\n",
       "        1., 1., 1., 0., 0., 0., 0., 0., 0., 0., 0., 0., 0., 0., 0., 0., 0., 0.,\n",
       "        0., 0., 1., 1., 1., 1., 1., 1., 1., 1., 1., 1., 0., 0., 0., 0., 0., 0.,\n",
       "        0., 0., 0., 0., 0., 0., 0., 0., 0., 0., 1., 1., 1., 1., 1., 1., 1., 1.,\n",
       "        1., 1., 0., 0., 0., 0., 0., 0., 0., 0., 0., 0., 0., 0., 0., 0., 0., 0.,\n",
       "        1., 1., 1., 1., 1., 1., 1., 1., 1., 1., 0., 0., 0., 0., 0., 0., 0., 0.,\n",
       "        0., 0., 0., 0., 0., 0., 0., 0., 0., 0., 1., 1., 1., 1., 1., 1., 1., 1.,\n",
       "        0., 0., 0., 0., 0., 0., 0., 0., 0., 0., 0., 0., 0., 0., 0., 0., 0., 0.,\n",
       "        0., 0., 0., 0., 0., 0., 0., 0., 0., 0., 0., 0., 0., 0., 0., 0., 0., 0.,\n",
       "        0., 0., 0., 0., 0., 0., 0., 0., 0., 0., 0., 0., 0., 0., 0., 0., 0., 0.,\n",
       "        0., 0., 0., 0., 0., 0., 0., 0., 0., 0., 0., 0., 0., 0., 0., 0., 0., 0.,\n",
       "        0., 0., 0., 0., 0., 0., 0., 0., 0., 0., 0., 0., 0., 0., 0., 0., 0., 0.,\n",
       "        0., 0., 0., 0., 0., 0., 0., 0., 0., 0., 5.])"
      ]
     },
     "execution_count": 168,
     "metadata": {},
     "output_type": "execute_result"
    }
   ],
   "source": [
    "concatenated = torch.cat((Xtrain.float(), Ytrain[:,None]), dim =1)\n",
    "concatenated.shape\n",
    "concatenated[0]"
   ]
  },
  {
   "cell_type": "code",
   "execution_count": 169,
   "id": "8eefc4a9",
   "metadata": {},
   "outputs": [
    {
     "name": "stdout",
     "output_type": "stream",
     "text": [
      "After layer 0 (MultiLeaf): torch.Size([8000, 1, 785, 51])\n",
      "After layer 1 (Weightsum): torch.Size([8000])\n",
      "\n"
     ]
    }
   ],
   "source": [
    "x = concatenated\n",
    "for i, layer in enumerate(pc_model):\n",
    "    x = layer(x)\n",
    "    print(f\"After layer {i} ({layer.__class__.__name__}): {x.shape}\")\n",
    "\n",
    "print()"
   ]
  },
  {
   "cell_type": "code",
   "execution_count": 170,
   "id": "9012f305",
   "metadata": {},
   "outputs": [
    {
     "name": "stderr",
     "output_type": "stream",
     "text": [
      "  0%|          | 0/10 [00:00<?, ?it/s]"
     ]
    },
    {
     "name": "stderr",
     "output_type": "stream",
     "text": [
      "Epoch 10, Avg P: -153.2817: 100%|██████████| 10/10 [00:50<00:00,  5.01s/it]\n"
     ]
    }
   ],
   "source": [
    "pc_model.train()\n",
    "tp.utils.model.train(pc_model, [concatenated], device = device, epochs = 10, show_progress=True)"
   ]
  },
  {
   "cell_type": "code",
   "execution_count": 171,
   "id": "014d3130",
   "metadata": {},
   "outputs": [],
   "source": [
    "Xtest = Xtest > 0\n",
    "empty_y = torch.zeros(Xtest.shape[0])\n",
    "empty_y[:] = float('nan')\n",
    "concatenated_test = torch.cat((Xtest.float(), empty_y[:,None]), dim =1)\n"
   ]
  },
  {
   "cell_type": "code",
   "execution_count": 172,
   "id": "13b81452",
   "metadata": {},
   "outputs": [
    {
     "name": "stdout",
     "output_type": "stream",
     "text": [
      "['N', 'N', 'N', 'N', 'N', 'N', 'N', 'N', 'N', 'N', 'N', 'N', 'N', 'N', 'N', 'N', 'N', 'N', 'N', 'N', 'N', 'N', 'N', 'N', 'N', 'N', 'N', 'N', 'N', 'N', 'N', 'N', 'N', 'N', 'N', 'N', 'N', 'N', 'N', 'N', 'N', 'N', 'N', 'N', 'N', 'N', 'N', 'N', 'N', 'N', 'N', 'N', 'N', 'N', 'N', 'N', 'N', 'N', 'N', 'N', 'N', 'N', 'N', 'N', 'N', 'N', 'N', 'N', 'N', 'N', 'N', 'N', 'N', 'N', 'N', 'N', 'N', 'N', 'N', 'N', 'N', 'N', 'N', 'N', 'N', 'N', 'N', 'N', 'N', 'N', 'N', 'N', 'N', 'N', 'N', 'N', 'N', 'N', 'N', 'N', 'N', 'N', 'N', 'N', 'N', 'N', 'N', 'N', 'N', 'N', 'N', 'N', 'N', 'N', 'N', 'N', 'N', 'N', 'N', 'N', 'N', 'N', 'N', 'N', 'N', 'N', 'N', 'N', 'N', 'N', 'N', 'N', 'N', 'N', 'N', 'N', 'N', 'N', 'N', 'N', 'N', 'N', 'N', 'N', 'N', 'N', 'N', 'N', 'N', 'N', 'N', 'N', 'N', 'N', 'N', 'N', 'N', 'N', 'N', 'N', 'N', 'N', 'N', 'N', 'N', 'N', 'N', 'N', 'N', 'N', 'N', 'N', 'N', 'N', 'N', 'N', 'N', 'N', 'N', 'N', 'N', 'N', 'N', 'N', 'N', 'N', 'N', 'N', 'N', 'N', 'N', 'N', 'N', 'N', 'N', 'N', 'N', 'N', 'N', 'N', 'N', 'N', 'N', 'N', 'N', 'N', 'N', 'N', 'N', 'N', 'N', 'N', 'N', 'N', 'N', 'N', 'N', 'N', 'N', 'N', 'N', 'N', 'N', 'N', 'N', 'N', 'N', 'N', 'N', 'N', 'N', 'N', 'N', 'N', 'N', 'N', 'N', 'N', 'N', 'N', 'N', 'N', 'N', 'N', 'N', 'N', 'N', 'N', 'N', 'N', 'N', 'N', 'N', 'N', 'N', 'N', 'N', 'N', 'N', 'N', 'N', 'N', 'N', 'N', 'N', 'N', 'N', 'N', 'N', 'N', 'N', 'N', 'N', 'N', 'N', 'N', 'N', 'N', 'N', 'N', 'N', 'N', 'N', 'N', 'N', 'N', 'N', 'N', 'N', 'N', 'N', 'N', 'N', 'N', 'N', 'N', 'N', 'N', 'N', 'N', 'N', 'N', 'N', 'N', 'N', 'N', 'N', 'N', 'N', 'N', 'N', 'N', 'N', 'N', 'N', 'N', 'N', 'N', 'N', 'N', 'N', 'N', 'N', 'N', 'N', 'N', 'N', 'N', 'N', 'N', 'N', 'N', 'N', 'N', 'N', 'N', 'N', 'N', 'N', 'N', 'N', 'N', 'N', 'N', 'N', 'N', 'N', 'N', 'N', 'N', 'N', 'N', 'N', 'N', 'N', 'N', 'N', 'N', 'N', 'N', 'N', 'N', 'N', 'N', 'N', 'N', 'N', 'N', 'N', 'N', 'N', 'N', 'N', 'N', 'N', 'N', 'N', 'N', 'N', 'N', 'N', 'N', 'N', 'N', 'N', 'N', 'N', 'N', 'N', 'N', 'N', 'N', 'N', 'N', 'N', 'N', 'N', 'N', 'N', 'N', 'N', 'N', 'N', 'N', 'N', 'N', 'N', 'N', 'N', 'N', 'N', 'N', 'N', 'N', 'N', 'N', 'N', 'N', 'N', 'N', 'N', 'N', 'N', 'N', 'N', 'N', 'N', 'N', 'N', 'N', 'N', 'N', 'N', 'N', 'N', 'N', 'N', 'N', 'N', 'N', 'N', 'N', 'N', 'N', 'N', 'N', 'N', 'N', 'N', 'N', 'N', 'N', 'N', 'N', 'N', 'N', 'N', 'N', 'N', 'N', 'N', 'N', 'N', 'N', 'N', 'N', 'N', 'N', 'N', 'N', 'N', 'N', 'N', 'N', 'N', 'N', 'N', 'N', 'N', 'N', 'N', 'N', 'N', 'N', 'N', 'N', 'N', 'N', 'N', 'N', 'N', 'N', 'N', 'N', 'N', 'N', 'N', 'N', 'N', 'N', 'N', 'N', 'N', 'N', 'N', 'N', 'N', 'N', 'N', 'N', 'N', 'N', 'N', 'N', 'N', 'N', 'N', 'N', 'N', 'N', 'N', 'N', 'N', 'N', 'N', 'N', 'N', 'N', 'N', 'N', 'N', 'N', 'N', 'N', 'N', 'N', 'N', 'N', 'N', 'N', 'N', 'N', 'N', 'N', 'N', 'N', 'N', 'N', 'N', 'N', 'N', 'N', 'N', 'N', 'N', 'N', 'N', 'N', 'N', 'N', 'N', 'N', 'N', 'N', 'N', 'N', 'N', 'N', 'N', 'N', 'N', 'N', 'N', 'N', 'N', 'N', 'N', 'N', 'N', 'N', 'N', 'N', 'N', 'N', 'N', 'N', 'N', 'N', 'N', 'N', 'N', 'N', 'N', 'N', 'N', 'N', 'N', 'N', 'N', 'N', 'N', 'N', 'N', 'N', 'N', 'N', 'N', 'N', 'N', 'N', 'N', 'N', 'N', 'N', 'N', 'N', 'N', 'N', 'N', 'N', 'N', 'N', 'N', 'N', 'N', 'N', 'N', 'N', 'N', 'N', 'N', 'N', 'N', 'N', 'N', 'N', 'N', 'N', 'N', 'N', 'N', 'N', 'N', 'N', 'N', 'N', 'N', 'N', 'N', 'N', 'N', 'N', 'N', 'N', 'N', 'N', 'N', 'N', 'N', 'N', 'N', 'N', 'N', 'N', 'N', 'N', 'N', 'N', 'N', 'N', 'N', 'N', 'N', 'N', 'N', 'N', 'N', 'N', 'N', 'N', 'N', 'N', 'N', 'N', 'N', 'N', 'N', 'N', 'N', 'N', 'N', 'N', 'N', 'N', 'N', 'N', 'N', 'N', 'N', 'N', 'N', 'N', 'N', 'N', 'N', 'N', 'N', 'N', 'N', 'N', 'N', 'N', 'N', 'N', 'N', 'N', 'N', 'N', 'N', 'N', 'N', 'N', 'N', 'N', 'N', 'N', 'N', 'N', 'N', 'N', 'N', 'N', 'N', 'N', 'N', 'N', 'N', 'N', 'N', 'N', 'N', 'N', 'N', 'N', 'N', 'N', 'N', 'N', 'N', 'N', 'N', 'N', 'N', 'N', 'N', 'N', 'N', 'N', 'N', 'N', 'N', 'N', 'N', 'N', 'N', 'N', 'N', 'N', 'N', 'N', 'N', 'N', 'N', 'N', 'N', 'N', 'N', 'N', 'N', 'N', 'N', 'N', 'N', 'N', 'C']\n"
     ]
    }
   ],
   "source": [
    "leaves_types = [\"N\"] * 784 + [\"C\"]\n",
    "print(leaves_types)\n",
    "\n",
    "imp_func = lambda model, batch, device: tp.utils.impute.impute(model, batch, leaves_types, device = device)\n",
    "\n",
    "#We can now impute the data introducing some randomn missing values\n",
    "\n",
    "p = 0.5\n",
    "mXtest = torch.clone(concatenated_test)\n",
    "\n",
    "b_mXtest = tp.utils.data.batch(mXtest, 200)\n",
    "\n",
    "Ximputed = tp.utils.impute.b_impute(pc_model, b_mXtest , imp_func, device)\n",
    "\n",
    "predicted_label = Ximputed[:,-1]\n"
   ]
  },
  {
   "cell_type": "code",
   "execution_count": 173,
   "id": "bb1e0b06",
   "metadata": {},
   "outputs": [
    {
     "name": "stdout",
     "output_type": "stream",
     "text": [
      "tensor(0.7700)\n"
     ]
    }
   ],
   "source": [
    "num_correct = torch.sum(predicted_label == Ytest)\n",
    "print(num_correct/frac_test)"
   ]
  },
  {
   "cell_type": "markdown",
   "id": "8fee464f",
   "metadata": {},
   "source": [
    "# CNN model"
   ]
  },
  {
   "cell_type": "markdown",
   "id": "cc9b56a2",
   "metadata": {},
   "source": [
    "### Create Torch dataset"
   ]
  },
  {
   "cell_type": "code",
   "execution_count": 85,
   "id": "9558ae9b",
   "metadata": {},
   "outputs": [],
   "source": [
    "\n",
    "# Create Dataset objects for training and validation\n",
    "train_dataset = torch.utils.data.TensorDataset(Xtrain.view(-1, 1, 28, 28), Ytrain)\n",
    "val_dataset = torch.utils.data.TensorDataset(Xtest.view(-1, 1, 28, 28), Ytest)\n",
    "\n",
    "# Create DataLoader objects for loading data in batches\n",
    "batch_size = 64\n",
    "train_loader = torch.utils.data.DataLoader(train_dataset, batch_size=batch_size, shuffle=True)\n",
    "val_loader = torch.utils.data.DataLoader(val_dataset, batch_size=batch_size, shuffle=False)"
   ]
  },
  {
   "cell_type": "markdown",
   "id": "d6b8df07",
   "metadata": {},
   "source": [
    "### Define network structure"
   ]
  },
  {
   "cell_type": "markdown",
   "id": "98a847bd",
   "metadata": {},
   "source": [
    "#### CNN Model with 2 FF layers "
   ]
  },
  {
   "cell_type": "code",
   "execution_count": null,
   "id": "40961bae",
   "metadata": {},
   "outputs": [
    {
     "name": "stdout",
     "output_type": "stream",
     "text": [
      "Model(\n",
      "  (conv1): Conv2d(1, 3, kernel_size=(5, 5), stride=(1, 1), padding=(1, 1))\n",
      "  (conv2): Conv2d(3, 6, kernel_size=(5, 5), stride=(1, 1), padding=(1, 1))\n",
      "  (pool): MaxPool2d(kernel_size=2, stride=2, padding=0, dilation=1, ceil_mode=False)\n",
      "  (dropout): Dropout(p=0.25, inplace=False)\n",
      "  (fc1): Linear(in_features=588, out_features=128, bias=True)\n",
      "  (fc2): Linear(in_features=128, out_features=10, bias=True)\n",
      "  (print_size): PrintSize()\n",
      ")\n"
     ]
    }
   ],
   "source": [
    "class PrintSize(nn.Module):\n",
    "    \"\"\"Utility module to print current shape of a Tensor in Sequential, only at the first pass.\"\"\"\n",
    "\n",
    "    first = True\n",
    "\n",
    "    def forward(self, x):\n",
    "        if self.first:\n",
    "            print(f\"Size: {x.size()}\")\n",
    "            self.first = False\n",
    "        return x\n",
    "\n",
    "\n",
    "class Model(nn.Module):\n",
    "    def __init__(self, num_classes = 10):\n",
    "        super(Model, self).__init__()\n",
    "\n",
    "        self.conv1 = nn.Conv2d(1, 3, 5)\n",
    "        self.conv2 = nn.Conv2d(3, 6, 5)\n",
    "\n",
    "        self.pool = nn.MaxPool2d(2, 2)\n",
    "        self.dropout = nn.Dropout(0.25)\n",
    "\n",
    "        self.fc1 = nn.Linear(6 * 7 * 7, 128)\n",
    "        self.fc2 = nn.Linear(128, num_classes)\n",
    "\n",
    "        self.print_size = PrintSize()\n",
    "\n",
    "    def forward(self, x):\n",
    "\n",
    "      x = self.dropout(self.pool(F.relu(self.conv1(x.float()))))\n",
    "      x = self.dropout(self.pool(F.relu(self.conv2(x))))\n",
    "      \n",
    "\n",
    "      x = self.print_size(x)\n",
    "\n",
    "      x = x.view(x.size(0), -1)\n",
    "      x = self.dropout(F.relu(self.fc1(x)))\n",
    "\n",
    "      x = self.fc2(x)\n",
    "\n",
    "      return x\n",
    "    \n",
    "    def return_hidden(self, x):\n",
    "      x = self.dropout(self.pool(F.relu(self.conv1(x.float()))))\n",
    "      x = self.dropout(self.pool(F.relu(self.conv2(x))))\n",
    "\n",
    "      x = self.print_size(x)\n",
    "\n",
    "      x = x.view(x.size(0), -1)\n",
    "        \n",
    "      return x\n",
    "\n",
    "cnn_model_2l = Model(10)\n",
    "device = torch.device('cpu')  # use cuda or cpu\n",
    "cnn_model_2l.to(device)\n",
    "print(cnn_model_2l)"
   ]
  },
  {
   "cell_type": "code",
   "execution_count": 194,
   "id": "dfdb2e49",
   "metadata": {},
   "outputs": [
    {
     "name": "stdout",
     "output_type": "stream",
     "text": [
      "Model(\n",
      "  (conv1): Conv2d(1, 3, kernel_size=(5, 5), stride=(1, 1))\n",
      "  (conv2): Conv2d(3, 6, kernel_size=(5, 5), stride=(1, 1))\n",
      "  (pool): MaxPool2d(kernel_size=2, stride=2, padding=0, dilation=1, ceil_mode=False)\n",
      "  (dropout): Dropout(p=0.25, inplace=False)\n",
      "  (fc1): Linear(in_features=96, out_features=128, bias=True)\n",
      "  (fc2): Linear(in_features=128, out_features=10, bias=True)\n",
      "  (print_size): PrintSize()\n",
      ")\n"
     ]
    },
    {
     "data": {
      "text/plain": [
       "400"
      ]
     },
     "execution_count": 194,
     "metadata": {},
     "output_type": "execute_result"
    }
   ],
   "source": [
    "class PrintSize(nn.Module):\n",
    "    \"\"\"Utility module to print current shape of a Tensor in Sequential, only at the first pass.\"\"\"\n",
    "\n",
    "    first = True\n",
    "\n",
    "    def forward(self, x):\n",
    "        if self.first:\n",
    "            print(f\"Size: {x.size()}\")\n",
    "            self.first = False\n",
    "        return x\n",
    "\n",
    "\n",
    "class Model(nn.Module):\n",
    "    def __init__(self, inpsz,  num_classes = 10):\n",
    "        super(Model, self).__init__()\n",
    "        self.conv1 = nn.Conv2d(1, 3, 5)\n",
    "        self.conv2 = nn.Conv2d(3, 6, 5)\n",
    "\n",
    "        self.pool = nn.MaxPool2d(2, 2)\n",
    "        self.dropout = nn.Dropout(0.25)\n",
    "\n",
    "        self.fc1 = nn.Linear(96, 128)\n",
    "        self.fc2 = nn.Linear(128, num_classes)\n",
    "\n",
    "        self.print_size = PrintSize()\n",
    "\n",
    "    def count_output_cl(self, inpsz):\n",
    "        x = torch.rand(inpsz)\n",
    "        y = nn.Flatten()(self.conv2(self.conv1(x[None])))\n",
    "        return y.shape[1]\n",
    "    \n",
    "    def forward(self, x):\n",
    "\n",
    "      x = self.dropout(self.pool(F.relu(self.conv1(x.float()))))\n",
    "      x = self.dropout(self.pool(F.relu(self.conv2(x))))\n",
    "      \n",
    "\n",
    "      x = self.print_size(x)\n",
    "\n",
    "      x = x.view(x.size(0), -1)\n",
    "      #x = nn.Flatten()(x)\n",
    "    \n",
    "      \n",
    "      x = self.dropout(F.relu(self.fc1(x)))\n",
    "\n",
    "      x = self.fc2(x)\n",
    "\n",
    "      return x\n",
    "    \n",
    "    def return_hidden(self, x):\n",
    "      x = self.dropout(self.pool(F.relu(self.conv1(x.float()))))\n",
    "      x = self.dropout(self.pool(F.relu(self.conv2(x))))\n",
    "\n",
    "      x = self.print_size(x)\n",
    "\n",
    "      x = x.view(x.size(0), -1)\n",
    "        \n",
    "      return x\n",
    "\n",
    "cnn_model_2l = Model((28, 28), 10)\n",
    "device = torch.device('cpu')  # use cuda or cpu\n",
    "cnn_model_2l.to(device)\n",
    "print(cnn_model_2l)\n",
    "cnn_model_2l.count_output_cl((28, 28))"
   ]
  },
  {
   "cell_type": "code",
   "execution_count": 177,
   "id": "93e086c6",
   "metadata": {},
   "outputs": [
    {
     "data": {
      "text/plain": [
       "torch.Size([8000, 784])"
      ]
     },
     "execution_count": 177,
     "metadata": {},
     "output_type": "execute_result"
    }
   ],
   "source": [
    "Xtrain.shape"
   ]
  },
  {
   "cell_type": "markdown",
   "id": "5dc35c09",
   "metadata": {},
   "source": [
    "#### CNN Model with 1 FF layer "
   ]
  },
  {
   "cell_type": "code",
   "execution_count": 87,
   "id": "930b4116",
   "metadata": {},
   "outputs": [
    {
     "name": "stdout",
     "output_type": "stream",
     "text": [
      "Model(\n",
      "  (conv1): Conv2d(1, 32, kernel_size=(3, 3), stride=(1, 1), padding=(1, 1))\n",
      "  (conv2): Conv2d(32, 64, kernel_size=(3, 3), stride=(1, 1), padding=(1, 1))\n",
      "  (pool): MaxPool2d(kernel_size=2, stride=2, padding=0, dilation=1, ceil_mode=False)\n",
      "  (dropout): Dropout(p=0.25, inplace=False)\n",
      "  (fc1): Linear(in_features=3136, out_features=10, bias=True)\n",
      "  (print_size): PrintSize()\n",
      ")\n"
     ]
    }
   ],
   "source": [
    "class PrintSize(nn.Module):\n",
    "    \"\"\"Utility module to print current shape of a Tensor in Sequential, only at the first pass.\"\"\"\n",
    "\n",
    "    first = True\n",
    "\n",
    "    def forward(self, x):\n",
    "        if self.first:\n",
    "            print(f\"Size: {x.size()}\")\n",
    "            self.first = False\n",
    "        return x\n",
    "\n",
    "\n",
    "class Model(nn.Module):\n",
    "    def __init__(self, num_classes = 10):\n",
    "        super(Model, self).__init__()\n",
    "\n",
    "        self.conv1 = nn.Conv2d(1, 32, 3, padding = 1)\n",
    "        self.conv2 = nn.Conv2d(32, 64, 3, padding = 1)\n",
    "\n",
    "        self.pool = nn.MaxPool2d(2, 2)\n",
    "        self.dropout = nn.Dropout(0.25)\n",
    "\n",
    "        self.fc1 = nn.Linear(64 * 7 * 7, num_classes)\n",
    "\n",
    "        self.print_size = PrintSize()\n",
    "\n",
    "    def forward(self, x):\n",
    "\n",
    "      x = self.dropout(self.pool(F.relu(self.conv1(x.float()))))\n",
    "      x = self.dropout(self.pool(F.relu(self.conv2(x))))\n",
    "\n",
    "      x = self.print_size(x)\n",
    "\n",
    "      x = x.view(x.size(0), -1)\n",
    "      x = self.fc1(x)\n",
    "\n",
    "      return x\n",
    "    \n",
    "    def return_hidden(self, x):\n",
    "      x = self.dropout(self.pool(F.relu(self.conv1(x.float()))))\n",
    "      x = self.dropout(self.pool(F.relu(self.conv2(x))))\n",
    "\n",
    "      x = self.print_size(x)\n",
    "\n",
    "      x = x.view(x.size(0), -1)\n",
    "        \n",
    "      return x\n",
    "\n",
    "cnn_model = Model(10)\n",
    "device = torch.device('cpu')  # use cuda or cpu\n",
    "cnn_model.to(device)\n",
    "print(cnn_model)"
   ]
  },
  {
   "cell_type": "markdown",
   "id": "fe86c1e8",
   "metadata": {},
   "source": [
    "### Training CNN"
   ]
  },
  {
   "cell_type": "code",
   "execution_count": null,
   "id": "cb018a83",
   "metadata": {},
   "outputs": [
    {
     "name": "stdout",
     "output_type": "stream",
     "text": [
      "Size: torch.Size([64, 6, 4, 4])\n",
      "Epoch 1/10, Training Loss: 1.6472, Validation Loss: 0.7436, Validation Accuracy: 76.75%\n",
      "Epoch 2/10, Training Loss: 0.8196, Validation Loss: 0.5192, Validation Accuracy: 85.30%\n",
      "Epoch 3/10, Training Loss: 0.6361, Validation Loss: 0.4197, Validation Accuracy: 87.25%\n",
      "Epoch 4/10, Training Loss: 0.5502, Validation Loss: 0.3481, Validation Accuracy: 89.95%\n",
      "Epoch 5/10, Training Loss: 0.4741, Validation Loss: 0.3165, Validation Accuracy: 89.55%\n",
      "Epoch 6/10, Training Loss: 0.4326, Validation Loss: 0.2870, Validation Accuracy: 91.50%\n",
      "Epoch 7/10, Training Loss: 0.4075, Validation Loss: 0.2620, Validation Accuracy: 92.10%\n",
      "Epoch 8/10, Training Loss: 0.3842, Validation Loss: 0.2517, Validation Accuracy: 92.30%\n",
      "Epoch 9/10, Training Loss: 0.3573, Validation Loss: 0.2353, Validation Accuracy: 92.45%\n",
      "Epoch 10/10, Training Loss: 0.3458, Validation Loss: 0.2364, Validation Accuracy: 92.65%\n"
     ]
    }
   ],
   "source": [
    "# Initialize the network, loss function, and optimizer\n",
    "import torch.optim as optim\n",
    "\n",
    "\n",
    "criterion = nn.CrossEntropyLoss()\n",
    "optimizer = optim.Adam(cnn_model_2l.parameters(), lr=0.001)\n",
    "\n",
    "# Train the model\n",
    "epochs = 10\n",
    "for epoch in range(epochs):\n",
    "    cnn_model_2l.train()\n",
    "    running_loss = 0.0\n",
    "    for images, labels in train_loader:\n",
    "        # Zero the parameter gradients\n",
    "        optimizer.zero_grad()\n",
    "            # Convert labels to Long type\n",
    "        labels = labels.long()\n",
    "        \n",
    "        # Forward pass\n",
    "        outputs = cnn_model_2l(images)\n",
    "        loss = criterion(outputs, labels)\n",
    "        \n",
    "        # Backward pass and optimization\n",
    "        loss.backward()\n",
    "        optimizer.step()\n",
    "        \n",
    "        running_loss += loss.item()\n",
    "    \n",
    "    # Validation step\n",
    "    cnn_model_2l.eval()\n",
    "    val_loss = 0.0\n",
    "    correct = 0\n",
    "    total = 0\n",
    "    with torch.no_grad():\n",
    "        for images, labels in val_loader:\n",
    "            labels = labels.long()\n",
    "\n",
    "            outputs = cnn_model_2l(images)\n",
    "            loss = criterion(outputs, labels)\n",
    "            val_loss += loss.item()\n",
    "            _, predicted = torch.max(outputs, 1)\n",
    "            total += labels.size(0)\n",
    "            correct += (predicted == labels).sum().item()\n",
    "    \n",
    "    print(f\"Epoch {epoch+1}/{epochs}, Training Loss: {running_loss/len(train_loader):.4f}, Validation Loss: {val_loss/len(val_loader):.4f}, Validation Accuracy: {100 * correct / total:.2f}%\")\n"
   ]
  },
  {
   "cell_type": "markdown",
   "id": "c5024ec3",
   "metadata": {},
   "source": [
    "# CNN + PC"
   ]
  },
  {
   "cell_type": "code",
   "execution_count": 196,
   "id": "d2bcf8c1",
   "metadata": {},
   "outputs": [],
   "source": [
    "final_conv_out = cnn_model_2l.return_hidden(Xtrain.view(-1, 1, 28, 28))"
   ]
  },
  {
   "cell_type": "code",
   "execution_count": 110,
   "id": "6d10604f",
   "metadata": {},
   "outputs": [
    {
     "ename": "ValueError",
     "evalue": "cannot reshape array of size 588 into shape (56,56)",
     "output_type": "error",
     "traceback": [
      "\u001b[1;31m---------------------------------------------------------------------------\u001b[0m",
      "\u001b[1;31mValueError\u001b[0m                                Traceback (most recent call last)",
      "Cell \u001b[1;32mIn[110], line 4\u001b[0m\n\u001b[0;32m      1\u001b[0m final_conv_out[\u001b[38;5;241m0\u001b[39m]\n\u001b[0;32m      2\u001b[0m \u001b[38;5;28;01mfrom\u001b[39;00m \u001b[38;5;21;01mmatplotlib\u001b[39;00m \u001b[38;5;28;01mimport\u001b[39;00m pyplot \u001b[38;5;28;01mas\u001b[39;00m plt\n\u001b[1;32m----> 4\u001b[0m plt\u001b[38;5;241m.\u001b[39mimshow(\u001b[43mfinal_conv_out\u001b[49m\u001b[43m[\u001b[49m\u001b[38;5;241;43m0\u001b[39;49m\u001b[43m]\u001b[49m\u001b[38;5;241;43m.\u001b[39;49m\u001b[43mdetach\u001b[49m\u001b[43m(\u001b[49m\u001b[43m)\u001b[49m\u001b[38;5;241;43m.\u001b[39;49m\u001b[43mnumpy\u001b[49m\u001b[43m(\u001b[49m\u001b[43m)\u001b[49m\u001b[38;5;241;43m.\u001b[39;49m\u001b[43mreshape\u001b[49m\u001b[43m(\u001b[49m\u001b[38;5;241;43m56\u001b[39;49m\u001b[43m,\u001b[49m\u001b[43m \u001b[49m\u001b[38;5;241;43m56\u001b[39;49m\u001b[43m)\u001b[49m)\n",
      "\u001b[1;31mValueError\u001b[0m: cannot reshape array of size 588 into shape (56,56)"
     ]
    }
   ],
   "source": [
    "final_conv_out[0]\n",
    "from matplotlib import pyplot as plt\n",
    "\n",
    "plt.imshow(final_conv_out[0].detach().numpy().reshape(56, 56))"
   ]
  },
  {
   "cell_type": "code",
   "execution_count": 197,
   "id": "741fed90",
   "metadata": {},
   "outputs": [],
   "source": [
    "Xtrain_mixed = final_conv_out\n",
    "Xtrain_mixed = Xtrain_mixed > 0"
   ]
  },
  {
   "cell_type": "code",
   "execution_count": 112,
   "id": "11f43086",
   "metadata": {},
   "outputs": [
    {
     "ename": "ValueError",
     "evalue": "cannot reshape array of size 588 into shape (56,56)",
     "output_type": "error",
     "traceback": [
      "\u001b[1;31m---------------------------------------------------------------------------\u001b[0m",
      "\u001b[1;31mValueError\u001b[0m                                Traceback (most recent call last)",
      "Cell \u001b[1;32mIn[112], line 1\u001b[0m\n\u001b[1;32m----> 1\u001b[0m plt\u001b[38;5;241m.\u001b[39mimshow(\u001b[43mXtrain_mixed\u001b[49m\u001b[43m[\u001b[49m\u001b[38;5;241;43m0\u001b[39;49m\u001b[43m]\u001b[49m\u001b[38;5;241;43m.\u001b[39;49m\u001b[43mdetach\u001b[49m\u001b[43m(\u001b[49m\u001b[43m)\u001b[49m\u001b[38;5;241;43m.\u001b[39;49m\u001b[43mnumpy\u001b[49m\u001b[43m(\u001b[49m\u001b[43m)\u001b[49m\u001b[38;5;241;43m.\u001b[39;49m\u001b[43mreshape\u001b[49m\u001b[43m(\u001b[49m\u001b[38;5;241;43m56\u001b[39;49m\u001b[43m,\u001b[49m\u001b[43m \u001b[49m\u001b[38;5;241;43m56\u001b[39;49m\u001b[43m)\u001b[49m)\n",
      "\u001b[1;31mValueError\u001b[0m: cannot reshape array of size 588 into shape (56,56)"
     ]
    }
   ],
   "source": [
    "plt.imshow(Xtrain_mixed[0].detach().numpy().reshape(56, 56))\n",
    "#plt.xticks(torch.linspace(0, 54, 7))"
   ]
  },
  {
   "cell_type": "code",
   "execution_count": 209,
   "id": "2dec1845",
   "metadata": {},
   "outputs": [
    {
     "name": "stdout",
     "output_type": "stream",
     "text": [
      "CategoricalLeaf()\n",
      "Sequential(\n",
      "  (0): MultiLeaf(\n",
      "    (0): BernoulliLeaf()\n",
      "    (1): CategoricalLeaf()\n",
      "  )\n",
      "  (1): Weightsum()\n",
      ")\n"
     ]
    }
   ],
   "source": [
    "from TNSPC.layers.leaves import NormalLeaf, CategoricalLeaf\n",
    "from TNSPC.layers.TNSPCclass import MultiLeaf\n",
    "\n",
    "# Hyperparameters\n",
    "T = 1 # Number of tracks\n",
    "C = 82  # Number of channels\n",
    "V = 96  # Number of input variables (e.g., pixels)\n",
    "classes = 10  # Number of output classes (e.g., digits 0-9)\n",
    "\n",
    "# Define individual leaf distributions\n",
    "input_leaf = BernoulliLeaf(T, V, C)         # Gaussian for pixel inputs\n",
    "output_leaf = CategoricalLeaf(T, 1, C, 10)  # Categorical for class labels\n",
    "\n",
    "\n",
    "# Combine them into a MultiLeaf\n",
    "multi_leaf = MultiLeaf(input_leaf, output_leaf)\n",
    "\n",
    "print(multi_leaf[1])\n",
    "\n",
    "mixed_model = Sequential(multi_leaf,\n",
    "                     Weightsum(T, V + 1, C)) \n",
    "\n",
    "#model = tp.utils.model.CP_(T, V, C, multi_leaf).to(device)\n",
    "\n",
    "print(mixed_model)"
   ]
  },
  {
   "cell_type": "code",
   "execution_count": 199,
   "id": "49d32e88",
   "metadata": {},
   "outputs": [
    {
     "data": {
      "text/plain": [
       "2"
      ]
     },
     "execution_count": 199,
     "metadata": {},
     "output_type": "execute_result"
    }
   ],
   "source": [
    "cp_channels(1/6, 8000, V)\n"
   ]
  },
  {
   "cell_type": "code",
   "execution_count": 210,
   "id": "bd4948c4",
   "metadata": {},
   "outputs": [
    {
     "data": {
      "text/plain": [
       "tensor([1., 1., 1., 1., 0., 0., 1., 1., 0., 0., 1., 1., 1., 1., 0., 0., 1., 1.,\n",
       "        0., 0., 1., 1., 0., 0., 1., 1., 1., 0., 0., 1., 0., 0., 1., 1., 1., 1.,\n",
       "        1., 1., 0., 0., 0., 1., 1., 0., 0., 1., 1., 1., 0., 0., 1., 1., 1., 0.,\n",
       "        0., 0., 0., 0., 0., 0., 0., 0., 1., 1., 1., 1., 0., 0., 1., 1., 0., 0.,\n",
       "        0., 1., 1., 1., 0., 1., 1., 1., 1., 1., 0., 1., 1., 1., 1., 0., 1., 1.,\n",
       "        1., 0., 0., 0., 1., 1., 5.])"
      ]
     },
     "execution_count": 210,
     "metadata": {},
     "output_type": "execute_result"
    }
   ],
   "source": [
    "concatenated = torch.cat((Xtrain_mixed.float(), Ytrain.int()[:,None]), dim =1)\n",
    "concatenated.shape\n",
    "concatenated[0]"
   ]
  },
  {
   "cell_type": "code",
   "execution_count": 226,
   "id": "7fd11b50",
   "metadata": {},
   "outputs": [
    {
     "name": "stdout",
     "output_type": "stream",
     "text": [
      "After layer 0 (MultiLeaf): torch.Size([8000, 1, 97, 82])\n",
      "After layer 1 (Weightsum): torch.Size([8000])\n",
      "\n"
     ]
    }
   ],
   "source": [
    "x = concatenated\n",
    "for i, layer in enumerate(mixed_model):\n",
    "    x = layer(x)\n",
    "    print(f\"After layer {i} ({layer.__class__.__name__}): {x.shape}\")\n",
    "\n",
    "print()"
   ]
  },
  {
   "cell_type": "code",
   "execution_count": 227,
   "id": "49db3672",
   "metadata": {},
   "outputs": [
    {
     "name": "stderr",
     "output_type": "stream",
     "text": [
      "Epoch 10, Avg P: -36.1140: 100%|██████████| 10/10 [00:08<00:00,  1.13it/s]\n"
     ]
    }
   ],
   "source": [
    "mixed_model.train()\n",
    "tp.utils.model.train(mixed_model, [concatenated], device = device, epochs = 10, show_progress=True)"
   ]
  },
  {
   "cell_type": "code",
   "execution_count": 228,
   "id": "55566244",
   "metadata": {},
   "outputs": [],
   "source": [
    "Xtest_mixed = cnn_model_2l.return_hidden(Xtest.view(-1, 1, 28, 28))\n",
    "Xtest_mixed = Xtest_mixed > 0\n",
    "empty_y = torch.zeros(Xtest_mixed.shape[0])\n",
    "empty_y[:] = float('nan')\n",
    "concatenated_test = torch.cat((Xtest_mixed.float(), empty_y[:,None]), dim =1)"
   ]
  },
  {
   "cell_type": "code",
   "execution_count": 238,
   "id": "919277f3",
   "metadata": {},
   "outputs": [
    {
     "name": "stdout",
     "output_type": "stream",
     "text": [
      "['N', 'N', 'N', 'N', 'N', 'N', 'N', 'N', 'N', 'N', 'N', 'N', 'N', 'N', 'N', 'N', 'N', 'N', 'N', 'N', 'N', 'N', 'N', 'N', 'N', 'N', 'N', 'N', 'N', 'N', 'N', 'N', 'N', 'N', 'N', 'N', 'N', 'N', 'N', 'N', 'N', 'N', 'N', 'N', 'N', 'N', 'N', 'N', 'N', 'N', 'N', 'N', 'N', 'N', 'N', 'N', 'N', 'N', 'N', 'N', 'N', 'N', 'N', 'N', 'N', 'N', 'N', 'N', 'N', 'N', 'N', 'N', 'N', 'N', 'N', 'N', 'N', 'N', 'N', 'N', 'N', 'N', 'N', 'N', 'N', 'N', 'N', 'N', 'N', 'N', 'N', 'N', 'N', 'N', 'N', 'N', 'C']\n"
     ]
    }
   ],
   "source": [
    "leaves_types = [\"N\"] * 96 + [\"C\"]\n",
    "print(leaves_types)\n",
    "\n",
    "imp_func = lambda model, batch, device: tp.utils.impute.impute(model, batch, leaves_types, device = device)\n",
    "\n",
    "#We can now impute the data introducing some randomn missing values\n",
    "\n",
    "p = 0.5\n",
    "mXtest = torch.clone(concatenated_test)\n",
    "\n",
    "b_mXtest = tp.utils.data.batch(mXtest, 200)\n",
    "\n",
    "Ximputed = tp.utils.impute.b_impute(mixed_model, b_mXtest , imp_func, device)\n",
    "\n",
    "predicted_label = Ximputed[:,-1]\n"
   ]
  },
  {
   "cell_type": "code",
   "execution_count": 239,
   "id": "3a2133f2",
   "metadata": {},
   "outputs": [
    {
     "name": "stdout",
     "output_type": "stream",
     "text": [
      "tensor(0.8710)\n"
     ]
    }
   ],
   "source": [
    "num_correct = torch.sum(predicted_label == Ytest)\n",
    "print(num_correct/frac_test)"
   ]
  },
  {
   "cell_type": "code",
   "execution_count": 240,
   "id": "2b6fb3b1",
   "metadata": {},
   "outputs": [
    {
     "data": {
      "text/plain": [
       "tensor([0., 6., 2.,  ..., 6., 4., 7.])"
      ]
     },
     "execution_count": 240,
     "metadata": {},
     "output_type": "execute_result"
    }
   ],
   "source": [
    "predicted_label"
   ]
  },
  {
   "cell_type": "code",
   "execution_count": 231,
   "id": "9c53bd2f",
   "metadata": {},
   "outputs": [
    {
     "name": "stdout",
     "output_type": "stream",
     "text": [
      "Total parameters: 40545\n"
     ]
    }
   ],
   "source": [
    "total_params = sum(p.numel() for p in pc_model.parameters())\n",
    "print(f\"Total parameters: {total_params}\")"
   ]
  },
  {
   "cell_type": "code",
   "execution_count": 232,
   "id": "a5a20b75",
   "metadata": {},
   "outputs": [
    {
     "name": "stdout",
     "output_type": "stream",
     "text": [
      "Total parameters: 8774\n"
     ]
    }
   ],
   "source": [
    "total_params = sum(p.numel() for p in mixed_model.parameters())\n",
    "print(f\"Total parameters: {total_params}\")"
   ]
  },
  {
   "cell_type": "code",
   "execution_count": 233,
   "id": "b3b802ac",
   "metadata": {},
   "outputs": [
    {
     "data": {
      "text/plain": [
       "10"
      ]
     },
     "execution_count": 233,
     "metadata": {},
     "output_type": "execute_result"
    }
   ],
   "source": [
    "cp_channels(1, 8000, pc_model[0].V)\n"
   ]
  },
  {
   "cell_type": "code",
   "execution_count": 234,
   "id": "b60369d7",
   "metadata": {},
   "outputs": [
    {
     "data": {
      "text/plain": [
       "82"
      ]
     },
     "execution_count": 234,
     "metadata": {},
     "output_type": "execute_result"
    }
   ],
   "source": [
    "cp_channels(1, 8000, mixed_model[0].V)\n"
   ]
  }
 ],
 "metadata": {
  "kernelspec": {
   "display_name": "DeepLearning",
   "language": "python",
   "name": "deeplearning"
  },
  "language_info": {
   "codemirror_mode": {
    "name": "ipython",
    "version": 3
   },
   "file_extension": ".py",
   "mimetype": "text/x-python",
   "name": "python",
   "nbconvert_exporter": "python",
   "pygments_lexer": "ipython3",
   "version": "3.10.15"
  }
 },
 "nbformat": 4,
 "nbformat_minor": 5
}
