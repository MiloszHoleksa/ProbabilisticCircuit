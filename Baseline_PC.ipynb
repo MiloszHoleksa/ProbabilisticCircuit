{
 "cells": [
  {
   "cell_type": "markdown",
   "id": "fd615175",
   "metadata": {},
   "source": [
    "# Data imports\n"
   ]
  },
  {
   "cell_type": "code",
   "execution_count": 1,
   "id": "a496382e-a10b-4da8-bfb1-35f6789ccb51",
   "metadata": {},
   "outputs": [
    {
     "data": {
      "text/plain": [
       "<torch._C.Generator at 0x2530afb1810>"
      ]
     },
     "execution_count": 1,
     "metadata": {},
     "output_type": "execute_result"
    }
   ],
   "source": [
    "import TNSPC as tp\n",
    "import torch\n",
    "\n",
    "device = torch.device('cpu')\n",
    "#to use cude need to install the package independently\n",
    "#device = torch.device('cuda')\n",
    "torch.manual_seed(0)"
   ]
  },
  {
   "cell_type": "markdown",
   "id": "ec35ed74-d2b4-4f12-a90c-1c9968f395c2",
   "metadata": {},
   "source": [
    "### Importing mnist and saving to arff file"
   ]
  },
  {
   "cell_type": "code",
   "execution_count": 2,
   "id": "2639159c-4142-40b8-bdd6-0c7a5cd5501f",
   "metadata": {},
   "outputs": [
    {
     "name": "stdout",
     "output_type": "stream",
     "text": [
      "Loading MNIST dataset...\n",
      "Converting dataset to DataFrame...\n",
      "ARFF file saved to mnist_2.arff\n"
     ]
    }
   ],
   "source": [
    "import numpy as np\n",
    "import pandas as pd\n",
    "from sklearn.datasets import fetch_openml\n",
    "\n",
    "# Step 1: Load MNIST dataset\n",
    "print(\"Loading MNIST dataset...\")\n",
    "mnist = fetch_openml('mnist_784', version=1)\n",
    "X = mnist.data[:10000]\n",
    "X = X / 255.0\n",
    "y = mnist.target[:10000].astype(int).to_numpy()\n",
    "\n",
    "# Step 2: Convert to Pandas DataFrame\n",
    "print(\"Converting dataset to DataFrame...\")\n",
    "df = pd.DataFrame(X, columns=[f'pixel{i}' for i in range(1, X.shape[1]+2)])\n",
    "#df['class'] = y  # Append labels as the last column\n",
    "\n",
    "\n",
    "# Step 3: Write to ARFF file manually\n",
    "def write_arff(df, filename, relation_name, class_labels):\n",
    "    with open(filename, 'w') as f:\n",
    "        # Write relation name\n",
    "        f.write(f\"@relation {relation_name}\\n\\n\")\n",
    "        \n",
    "        # Write attributes\n",
    "        for column in df.columns[:-1]:\n",
    "            f.write(f\"@attribute {column} numeric\\n\")\n",
    "        f.write(f\"@attribute class_labels {{{','.join(map(str, class_labels))}}}\\n\\n\")\n",
    "        # Write data\n",
    "        f.write(\"@data\\n\")\n",
    "        for row in df.values:\n",
    "            f.write(','.join(map(str, row)) + '\\n')\n",
    "\n",
    "output_file = 'mnist_2.arff'\n",
    "write_arff(df, output_file, relation_name='mnist', class_labels=range(10))\n",
    "\n",
    "print(f\"ARFF file saved to {output_file}\")\n"
   ]
  },
  {
   "cell_type": "markdown",
   "id": "0487766c-5de4-4b50-bf61-b053e47c4118",
   "metadata": {},
   "source": [
    "### Loading in the data from the arff file"
   ]
  },
  {
   "cell_type": "code",
   "execution_count": 17,
   "id": "bc5a73ab-8b2e-4693-bc94-7090a6b5f4ee",
   "metadata": {},
   "outputs": [
    {
     "name": "stdout",
     "output_type": "stream",
     "text": [
      "(10000, 784)\n",
      "torch.Size([8000, 784])\n",
      "(8000,)\n"
     ]
    }
   ],
   "source": [
    "import TNSPC as tp\n",
    "import torch\n",
    "import torch.nn.functional as F\n",
    "import matplotlib.pyplot as plt\n",
    "from TNSPC.utils.utils import drawnow, arrange_figs\n",
    "from TNSPC.layers.leaves import *\n",
    "from TNSPC.layers.tn import *\n",
    "from TNSPC.layers.spn import *\n",
    "from TNSPC.layers.TNSPCclass import *\n",
    "from TNSPC.utils.model import *\n",
    "\n",
    "\n",
    "file_path = \"mnist.arff\"\n",
    "\n",
    "df, attribute_mapping, leaves_types = tp.utils.data.hetdata(file_path, reorder=True)\n",
    "print(df.values.shape)\n",
    "\n",
    "frac_train = int(0.8*len(df))\n",
    "frac_test = len(df) - int(0.8*len(df))\n",
    "Xtrain = torch.tensor(df.values[:frac_train]).float()\n",
    "\n",
    "print(Xtrain.shape)\n",
    "Xtest = torch.tensor(df.values[frac_train:]).float()\n",
    "print(y[:frac_train].shape)\n",
    "Ytrain = torch.tensor(y[:frac_train]).int()\n",
    "Ytest = torch.tensor(y[frac_train:]).int()\n",
    "\n",
    "#%% Fit model\n",
    "N = frac_train"
   ]
  },
  {
   "cell_type": "markdown",
   "id": "a84e2834",
   "metadata": {},
   "source": [
    "# PC model"
   ]
  },
  {
   "cell_type": "markdown",
   "id": "b5f5f83e",
   "metadata": {},
   "source": [
    "### Model structure"
   ]
  },
  {
   "cell_type": "code",
   "execution_count": 19,
   "id": "78b024f8",
   "metadata": {},
   "outputs": [
    {
     "name": "stdout",
     "output_type": "stream",
     "text": [
      "CategoricalLeaf()\n",
      "Sequential(\n",
      "  (0): MultiLeaf(\n",
      "    (0): BernoulliLeaf()\n",
      "    (1): CategoricalLeaf()\n",
      "  )\n",
      "  (1): Weightsum()\n",
      ")\n"
     ]
    }
   ],
   "source": [
    "from TNSPC.layers.leaves import NormalLeaf, CategoricalLeaf\n",
    "from TNSPC.layers.TNSPCclass import MultiLeaf\n",
    "\n",
    "# Hyperparameters\n",
    "T = 1 # Number of tracks\n",
    "C = 10  # Number of channels\n",
    "V = 784  # Number of input variables (e.g., pixels)\n",
    "classes = 10  # Number of output classes (e.g., digits 0-9)\n",
    "\n",
    "# Define individual leaf distributions\n",
    "input_leaf = BernoulliLeaf(T, V, C)         # Gaussian for pixel inputs\n",
    "output_leaf = CategoricalLeaf(T, 1, C, 10)  # Categorical for class labels\n",
    "\n",
    "\n",
    "# Combine them into a MultiLeaf\n",
    "multi_leaf = MultiLeaf(input_leaf, output_leaf)\n",
    "\n",
    "print(multi_leaf[1])\n",
    "\n",
    "network = Sequential(multi_leaf,\n",
    "                     Weightsum(T, V + 1, C)) \n",
    "\n",
    "model = tp.utils.model.CP_(T, V, C, multi_leaf).to(device)\n",
    "\n",
    "print(network)"
   ]
  },
  {
   "cell_type": "code",
   "execution_count": 20,
   "id": "a17daf2d",
   "metadata": {},
   "outputs": [],
   "source": [
    "Xtrain = Xtrain > 0"
   ]
  },
  {
   "cell_type": "code",
   "execution_count": 21,
   "id": "799402d8",
   "metadata": {},
   "outputs": [
    {
     "data": {
      "text/plain": [
       "tensor([0., 0., 0., 0., 0., 0., 0., 0., 0., 0., 0., 0., 0., 0., 0., 0., 0., 0.,\n",
       "        0., 0., 0., 0., 0., 0., 0., 0., 0., 0., 0., 0., 0., 0., 0., 0., 0., 0.,\n",
       "        0., 0., 0., 0., 0., 0., 0., 0., 0., 0., 0., 0., 0., 0., 0., 0., 0., 0.,\n",
       "        0., 0., 0., 0., 0., 0., 0., 0., 0., 0., 0., 0., 0., 0., 0., 0., 0., 0.,\n",
       "        0., 0., 0., 0., 0., 0., 0., 0., 0., 0., 0., 0., 0., 0., 0., 0., 0., 0.,\n",
       "        0., 0., 0., 0., 0., 0., 0., 0., 0., 0., 0., 0., 0., 0., 0., 0., 0., 0.,\n",
       "        0., 0., 0., 0., 0., 0., 0., 0., 0., 0., 0., 0., 0., 0., 0., 0., 0., 0.,\n",
       "        0., 0., 0., 0., 0., 0., 0., 0., 0., 0., 0., 0., 0., 0., 0., 0., 0., 0.,\n",
       "        0., 0., 0., 0., 0., 0., 0., 0., 1., 1., 1., 1., 1., 1., 1., 1., 1., 1.,\n",
       "        1., 1., 0., 0., 0., 0., 0., 0., 0., 0., 0., 0., 0., 0., 1., 1., 1., 1.,\n",
       "        1., 1., 1., 1., 1., 1., 1., 1., 1., 1., 1., 1., 0., 0., 0., 0., 0., 0.,\n",
       "        0., 0., 0., 0., 0., 1., 1., 1., 1., 1., 1., 1., 1., 1., 1., 1., 1., 1.,\n",
       "        1., 1., 1., 0., 0., 0., 0., 0., 0., 0., 0., 0., 0., 0., 0., 1., 1., 1.,\n",
       "        1., 1., 1., 1., 1., 1., 1., 1., 0., 0., 0., 0., 0., 0., 0., 0., 0., 0.,\n",
       "        0., 0., 0., 0., 0., 0., 0., 0., 1., 1., 1., 1., 1., 1., 1., 0., 1., 1.,\n",
       "        0., 0., 0., 0., 0., 0., 0., 0., 0., 0., 0., 0., 0., 0., 0., 0., 0., 0.,\n",
       "        0., 1., 1., 1., 1., 1., 0., 0., 0., 0., 0., 0., 0., 0., 0., 0., 0., 0.,\n",
       "        0., 0., 0., 0., 0., 0., 0., 0., 0., 0., 0., 0., 0., 1., 1., 1., 1., 0.,\n",
       "        0., 0., 0., 0., 0., 0., 0., 0., 0., 0., 0., 0., 0., 0., 0., 0., 0., 0.,\n",
       "        0., 0., 0., 0., 0., 1., 1., 1., 1., 0., 0., 0., 0., 0., 0., 0., 0., 0.,\n",
       "        0., 0., 0., 0., 0., 0., 0., 0., 0., 0., 0., 0., 0., 0., 0., 0., 1., 1.,\n",
       "        1., 1., 1., 1., 0., 0., 0., 0., 0., 0., 0., 0., 0., 0., 0., 0., 0., 0.,\n",
       "        0., 0., 0., 0., 0., 0., 0., 0., 0., 1., 1., 1., 1., 1., 1., 0., 0., 0.,\n",
       "        0., 0., 0., 0., 0., 0., 0., 0., 0., 0., 0., 0., 0., 0., 0., 0., 0., 0.,\n",
       "        0., 0., 1., 1., 1., 1., 1., 1., 0., 0., 0., 0., 0., 0., 0., 0., 0., 0.,\n",
       "        0., 0., 0., 0., 0., 0., 0., 0., 0., 0., 0., 0., 0., 1., 1., 1., 1., 1.,\n",
       "        0., 0., 0., 0., 0., 0., 0., 0., 0., 0., 0., 0., 0., 0., 0., 0., 0., 0.,\n",
       "        0., 0., 0., 0., 0., 0., 0., 1., 1., 1., 1., 0., 0., 0., 0., 0., 0., 0.,\n",
       "        0., 0., 0., 0., 0., 0., 0., 0., 0., 0., 0., 0., 0., 0., 1., 1., 1., 1.,\n",
       "        1., 1., 1., 0., 0., 0., 0., 0., 0., 0., 0., 0., 0., 0., 0., 0., 0., 0.,\n",
       "        0., 0., 0., 0., 1., 1., 1., 1., 1., 1., 1., 1., 0., 0., 0., 0., 0., 0.,\n",
       "        0., 0., 0., 0., 0., 0., 0., 0., 0., 0., 0., 0., 1., 1., 1., 1., 1., 1.,\n",
       "        1., 1., 1., 0., 0., 0., 0., 0., 0., 0., 0., 0., 0., 0., 0., 0., 0., 0.,\n",
       "        0., 0., 1., 1., 1., 1., 1., 1., 1., 1., 1., 1., 0., 0., 0., 0., 0., 0.,\n",
       "        0., 0., 0., 0., 0., 0., 0., 0., 0., 0., 1., 1., 1., 1., 1., 1., 1., 1.,\n",
       "        1., 1., 0., 0., 0., 0., 0., 0., 0., 0., 0., 0., 0., 0., 0., 0., 0., 0.,\n",
       "        1., 1., 1., 1., 1., 1., 1., 1., 1., 1., 0., 0., 0., 0., 0., 0., 0., 0.,\n",
       "        0., 0., 0., 0., 0., 0., 0., 0., 0., 0., 1., 1., 1., 1., 1., 1., 1., 1.,\n",
       "        0., 0., 0., 0., 0., 0., 0., 0., 0., 0., 0., 0., 0., 0., 0., 0., 0., 0.,\n",
       "        0., 0., 0., 0., 0., 0., 0., 0., 0., 0., 0., 0., 0., 0., 0., 0., 0., 0.,\n",
       "        0., 0., 0., 0., 0., 0., 0., 0., 0., 0., 0., 0., 0., 0., 0., 0., 0., 0.,\n",
       "        0., 0., 0., 0., 0., 0., 0., 0., 0., 0., 0., 0., 0., 0., 0., 0., 0., 0.,\n",
       "        0., 0., 0., 0., 0., 0., 0., 0., 0., 0., 0., 0., 0., 0., 0., 0., 0., 0.,\n",
       "        0., 0., 0., 0., 0., 0., 0., 0., 0., 0., 5.])"
      ]
     },
     "execution_count": 21,
     "metadata": {},
     "output_type": "execute_result"
    }
   ],
   "source": [
    "\n",
    "concatenated = torch.cat((Xtrain.float(), Ytrain[:,None]), dim =1)\n",
    "concatenated.shape\n",
    "concatenated[0]"
   ]
  },
  {
   "cell_type": "code",
   "execution_count": 22,
   "id": "8eefc4a9",
   "metadata": {},
   "outputs": [
    {
     "name": "stdout",
     "output_type": "stream",
     "text": [
      "After layer 0 (MultiLeaf): torch.Size([8000, 1, 785, 10])\n",
      "After layer 1 (Weightsum): torch.Size([8000])\n",
      "\n"
     ]
    }
   ],
   "source": [
    "x = concatenated\n",
    "for i, layer in enumerate(network):\n",
    "    x = layer(x)\n",
    "    print(f\"After layer {i} ({layer.__class__.__name__}): {x.shape}\")\n",
    "\n",
    "print()"
   ]
  },
  {
   "cell_type": "code",
   "execution_count": 23,
   "id": "9012f305",
   "metadata": {},
   "outputs": [
    {
     "name": "stderr",
     "output_type": "stream",
     "text": [
      "Epoch 10, Avg P: -179.6649: 100%|██████████| 10/10 [00:11<00:00,  1.12s/it]\n"
     ]
    }
   ],
   "source": [
    "network.train()\n",
    "tp.utils.model.train(network, [concatenated], device = device, epochs = 10, show_progress=True)"
   ]
  },
  {
   "cell_type": "code",
   "execution_count": 24,
   "id": "014d3130",
   "metadata": {},
   "outputs": [],
   "source": [
    "Xtest = Xtest > 0\n",
    "empty_y = torch.zeros(Xtest.shape[0])\n",
    "empty_y[:] = float('nan')\n",
    "concatenated_test = torch.cat((Xtest.float(), empty_y[:,None]), dim =1)\n"
   ]
  },
  {
   "cell_type": "code",
   "execution_count": 25,
   "id": "13b81452",
   "metadata": {},
   "outputs": [
    {
     "name": "stdout",
     "output_type": "stream",
     "text": [
      "['N', 'N', 'N', 'N', 'N', 'N', 'N', 'N', 'N', 'N', 'N', 'N', 'N', 'N', 'N', 'N', 'N', 'N', 'N', 'N', 'N', 'N', 'N', 'N', 'N', 'N', 'N', 'N', 'N', 'N', 'N', 'N', 'N', 'N', 'N', 'N', 'N', 'N', 'N', 'N', 'N', 'N', 'N', 'N', 'N', 'N', 'N', 'N', 'N', 'N', 'N', 'N', 'N', 'N', 'N', 'N', 'N', 'N', 'N', 'N', 'N', 'N', 'N', 'N', 'N', 'N', 'N', 'N', 'N', 'N', 'N', 'N', 'N', 'N', 'N', 'N', 'N', 'N', 'N', 'N', 'N', 'N', 'N', 'N', 'N', 'N', 'N', 'N', 'N', 'N', 'N', 'N', 'N', 'N', 'N', 'N', 'N', 'N', 'N', 'N', 'N', 'N', 'N', 'N', 'N', 'N', 'N', 'N', 'N', 'N', 'N', 'N', 'N', 'N', 'N', 'N', 'N', 'N', 'N', 'N', 'N', 'N', 'N', 'N', 'N', 'N', 'N', 'N', 'N', 'N', 'N', 'N', 'N', 'N', 'N', 'N', 'N', 'N', 'N', 'N', 'N', 'N', 'N', 'N', 'N', 'N', 'N', 'N', 'N', 'N', 'N', 'N', 'N', 'N', 'N', 'N', 'N', 'N', 'N', 'N', 'N', 'N', 'N', 'N', 'N', 'N', 'N', 'N', 'N', 'N', 'N', 'N', 'N', 'N', 'N', 'N', 'N', 'N', 'N', 'N', 'N', 'N', 'N', 'N', 'N', 'N', 'N', 'N', 'N', 'N', 'N', 'N', 'N', 'N', 'N', 'N', 'N', 'N', 'N', 'N', 'N', 'N', 'N', 'N', 'N', 'N', 'N', 'N', 'N', 'N', 'N', 'N', 'N', 'N', 'N', 'N', 'N', 'N', 'N', 'N', 'N', 'N', 'N', 'N', 'N', 'N', 'N', 'N', 'N', 'N', 'N', 'N', 'N', 'N', 'N', 'N', 'N', 'N', 'N', 'N', 'N', 'N', 'N', 'N', 'N', 'N', 'N', 'N', 'N', 'N', 'N', 'N', 'N', 'N', 'N', 'N', 'N', 'N', 'N', 'N', 'N', 'N', 'N', 'N', 'N', 'N', 'N', 'N', 'N', 'N', 'N', 'N', 'N', 'N', 'N', 'N', 'N', 'N', 'N', 'N', 'N', 'N', 'N', 'N', 'N', 'N', 'N', 'N', 'N', 'N', 'N', 'N', 'N', 'N', 'N', 'N', 'N', 'N', 'N', 'N', 'N', 'N', 'N', 'N', 'N', 'N', 'N', 'N', 'N', 'N', 'N', 'N', 'N', 'N', 'N', 'N', 'N', 'N', 'N', 'N', 'N', 'N', 'N', 'N', 'N', 'N', 'N', 'N', 'N', 'N', 'N', 'N', 'N', 'N', 'N', 'N', 'N', 'N', 'N', 'N', 'N', 'N', 'N', 'N', 'N', 'N', 'N', 'N', 'N', 'N', 'N', 'N', 'N', 'N', 'N', 'N', 'N', 'N', 'N', 'N', 'N', 'N', 'N', 'N', 'N', 'N', 'N', 'N', 'N', 'N', 'N', 'N', 'N', 'N', 'N', 'N', 'N', 'N', 'N', 'N', 'N', 'N', 'N', 'N', 'N', 'N', 'N', 'N', 'N', 'N', 'N', 'N', 'N', 'N', 'N', 'N', 'N', 'N', 'N', 'N', 'N', 'N', 'N', 'N', 'N', 'N', 'N', 'N', 'N', 'N', 'N', 'N', 'N', 'N', 'N', 'N', 'N', 'N', 'N', 'N', 'N', 'N', 'N', 'N', 'N', 'N', 'N', 'N', 'N', 'N', 'N', 'N', 'N', 'N', 'N', 'N', 'N', 'N', 'N', 'N', 'N', 'N', 'N', 'N', 'N', 'N', 'N', 'N', 'N', 'N', 'N', 'N', 'N', 'N', 'N', 'N', 'N', 'N', 'N', 'N', 'N', 'N', 'N', 'N', 'N', 'N', 'N', 'N', 'N', 'N', 'N', 'N', 'N', 'N', 'N', 'N', 'N', 'N', 'N', 'N', 'N', 'N', 'N', 'N', 'N', 'N', 'N', 'N', 'N', 'N', 'N', 'N', 'N', 'N', 'N', 'N', 'N', 'N', 'N', 'N', 'N', 'N', 'N', 'N', 'N', 'N', 'N', 'N', 'N', 'N', 'N', 'N', 'N', 'N', 'N', 'N', 'N', 'N', 'N', 'N', 'N', 'N', 'N', 'N', 'N', 'N', 'N', 'N', 'N', 'N', 'N', 'N', 'N', 'N', 'N', 'N', 'N', 'N', 'N', 'N', 'N', 'N', 'N', 'N', 'N', 'N', 'N', 'N', 'N', 'N', 'N', 'N', 'N', 'N', 'N', 'N', 'N', 'N', 'N', 'N', 'N', 'N', 'N', 'N', 'N', 'N', 'N', 'N', 'N', 'N', 'N', 'N', 'N', 'N', 'N', 'N', 'N', 'N', 'N', 'N', 'N', 'N', 'N', 'N', 'N', 'N', 'N', 'N', 'N', 'N', 'N', 'N', 'N', 'N', 'N', 'N', 'N', 'N', 'N', 'N', 'N', 'N', 'N', 'N', 'N', 'N', 'N', 'N', 'N', 'N', 'N', 'N', 'N', 'N', 'N', 'N', 'N', 'N', 'N', 'N', 'N', 'N', 'N', 'N', 'N', 'N', 'N', 'N', 'N', 'N', 'N', 'N', 'N', 'N', 'N', 'N', 'N', 'N', 'N', 'N', 'N', 'N', 'N', 'N', 'N', 'N', 'N', 'N', 'N', 'N', 'N', 'N', 'N', 'N', 'N', 'N', 'N', 'N', 'N', 'N', 'N', 'N', 'N', 'N', 'N', 'N', 'N', 'N', 'N', 'N', 'N', 'N', 'N', 'N', 'N', 'N', 'N', 'N', 'N', 'N', 'N', 'N', 'N', 'N', 'N', 'N', 'N', 'N', 'N', 'N', 'N', 'N', 'N', 'N', 'N', 'N', 'N', 'N', 'N', 'N', 'N', 'N', 'N', 'N', 'N', 'N', 'N', 'N', 'N', 'N', 'N', 'N', 'N', 'N', 'N', 'N', 'N', 'N', 'N', 'N', 'N', 'N', 'N', 'N', 'N', 'N', 'N', 'N', 'N', 'N', 'N', 'N', 'N', 'N', 'N', 'N', 'N', 'N', 'N', 'N', 'N', 'N', 'N', 'N', 'N', 'N', 'N', 'N', 'N', 'N', 'N', 'N', 'N', 'N', 'N', 'N', 'N', 'N', 'N', 'N', 'N', 'N', 'N', 'N', 'N', 'N', 'N', 'N', 'N', 'N', 'N', 'N', 'N', 'N', 'N', 'N', 'N', 'N', 'N', 'N', 'N', 'N', 'N', 'N', 'C']\n"
     ]
    }
   ],
   "source": [
    "leaves_types = [\"N\"] * 784 + [\"C\"]\n",
    "print(leaves_types)\n",
    "\n",
    "imp_func = lambda model, batch, device: tp.utils.impute.impute(model, batch, leaves_types, device = device)\n",
    "\n",
    "#We can now impute the data introducing some randomn missing values\n",
    "\n",
    "p = 0.5\n",
    "mXtest = torch.clone(concatenated_test)\n",
    "\n",
    "b_mXtest = tp.utils.data.batch(mXtest, 200)\n",
    "\n",
    "Ximputed = tp.utils.impute.b_impute(model, b_mXtest , imp_func, device)\n",
    "\n",
    "predicted_label = Ximputed[:,-1]\n"
   ]
  },
  {
   "cell_type": "code",
   "execution_count": 26,
   "id": "bb1e0b06",
   "metadata": {},
   "outputs": [
    {
     "data": {
      "text/plain": [
       "tensor(1247)"
      ]
     },
     "execution_count": 26,
     "metadata": {},
     "output_type": "execute_result"
    }
   ],
   "source": [
    "torch.sum(predicted_label == Ytest)"
   ]
  },
  {
   "cell_type": "markdown",
   "id": "8fee464f",
   "metadata": {},
   "source": [
    "# CNN model"
   ]
  },
  {
   "cell_type": "code",
   "execution_count": 50,
   "id": "9558ae9b",
   "metadata": {},
   "outputs": [],
   "source": [
    "\n",
    "# Create Dataset objects for training and validation\n",
    "train_dataset = torch.utils.data.TensorDataset(Xtrain.view(-1, 1, 28, 28), Ytrain)\n",
    "val_dataset = torch.utils.data.TensorDataset(Xtest.view(-1, 1, 28, 28), Ytest)\n",
    "\n",
    "# Create DataLoader objects for loading data in batches\n",
    "batch_size = 64\n",
    "train_loader = torch.utils.data.DataLoader(train_dataset, batch_size=batch_size, shuffle=True)\n",
    "val_loader = torch.utils.data.DataLoader(val_dataset, batch_size=batch_size, shuffle=False)"
   ]
  },
  {
   "cell_type": "code",
   "execution_count": 51,
   "id": "40961bae",
   "metadata": {},
   "outputs": [
    {
     "name": "stdout",
     "output_type": "stream",
     "text": [
      "Model(\n",
      "  (conv1): Conv2d(1, 32, kernel_size=(3, 3), stride=(1, 1), padding=(1, 1))\n",
      "  (conv2): Conv2d(32, 64, kernel_size=(3, 3), stride=(1, 1), padding=(1, 1))\n",
      "  (pool): MaxPool2d(kernel_size=2, stride=2, padding=0, dilation=1, ceil_mode=False)\n",
      "  (dropout): Dropout(p=0.25, inplace=False)\n",
      "  (fc1): Linear(in_features=3136, out_features=128, bias=True)\n",
      "  (fc2): Linear(in_features=128, out_features=10, bias=True)\n",
      "  (print_size): PrintSize()\n",
      ")\n"
     ]
    }
   ],
   "source": [
    "class PrintSize(nn.Module):\n",
    "    \"\"\"Utility module to print current shape of a Tensor in Sequential, only at the first pass.\"\"\"\n",
    "\n",
    "    first = True\n",
    "\n",
    "    def forward(self, x):\n",
    "        if self.first:\n",
    "            print(f\"Size: {x.size()}\")\n",
    "            self.first = False\n",
    "        return x\n",
    "\n",
    "\n",
    "class Model(nn.Module):\n",
    "    def __init__(self, num_classes = 10):\n",
    "        super(Model, self).__init__()\n",
    "\n",
    "        self.conv1 = nn.Conv2d(1, 32, 3, padding = 1)\n",
    "        self.conv2 = nn.Conv2d(32, 64, 3, padding = 1)\n",
    "\n",
    "        self.pool = nn.MaxPool2d(2, 2)\n",
    "        self.dropout = nn.Dropout(0.25)\n",
    "\n",
    "        self.fc1 = nn.Linear(64 * 7 * 7, 128)\n",
    "        self.fc2 = nn.Linear(128, num_classes)\n",
    "\n",
    "        self.print_size = PrintSize()\n",
    "\n",
    "    def forward(self, x):\n",
    "\n",
    "      x = self.dropout(self.pool(F.relu(self.conv1(x.float()))))\n",
    "      x = self.dropout(self.pool(F.relu(self.conv2(x))))\n",
    "\n",
    "      x = self.print_size(x)\n",
    "\n",
    "      x = x.view(x.size(0), -1)\n",
    "      x = self.dropout(F.relu(self.fc1(x)))\n",
    "\n",
    "      x = self.fc2(x)\n",
    "\n",
    "      return x\n",
    "\n",
    "\n",
    "model = Model(10)\n",
    "device = torch.device('cpu')  # use cuda or cpu\n",
    "model.to(device)\n",
    "print(model)"
   ]
  },
  {
   "cell_type": "code",
   "execution_count": 53,
   "id": "cb018a83",
   "metadata": {},
   "outputs": [
    {
     "name": "stdout",
     "output_type": "stream",
     "text": [
      "Epoch 1/10, Training Loss: 0.2681, Validation Loss: 0.2011, Validation Accuracy: 93.75%\n",
      "Epoch 2/10, Training Loss: 0.1794, Validation Loss: 0.1738, Validation Accuracy: 94.35%\n",
      "Epoch 3/10, Training Loss: 0.1399, Validation Loss: 0.1554, Validation Accuracy: 95.20%\n",
      "Epoch 4/10, Training Loss: 0.1173, Validation Loss: 0.1468, Validation Accuracy: 95.10%\n",
      "Epoch 5/10, Training Loss: 0.0940, Validation Loss: 0.1293, Validation Accuracy: 95.55%\n",
      "Epoch 6/10, Training Loss: 0.0869, Validation Loss: 0.1136, Validation Accuracy: 96.35%\n",
      "Epoch 7/10, Training Loss: 0.0739, Validation Loss: 0.1059, Validation Accuracy: 96.15%\n",
      "Epoch 8/10, Training Loss: 0.0610, Validation Loss: 0.1188, Validation Accuracy: 96.55%\n",
      "Epoch 9/10, Training Loss: 0.0632, Validation Loss: 0.1143, Validation Accuracy: 95.90%\n",
      "Epoch 10/10, Training Loss: 0.0524, Validation Loss: 0.1162, Validation Accuracy: 96.30%\n"
     ]
    }
   ],
   "source": [
    "# Initialize the network, loss function, and optimizer\n",
    "import torch.optim as optim\n",
    "\n",
    "\n",
    "criterion = nn.CrossEntropyLoss()\n",
    "optimizer = optim.Adam(model.parameters(), lr=0.001)\n",
    "\n",
    "# Train the model\n",
    "epochs = 10\n",
    "for epoch in range(epochs):\n",
    "    model.train()\n",
    "    running_loss = 0.0\n",
    "    for images, labels in train_loader:\n",
    "        # Zero the parameter gradients\n",
    "        optimizer.zero_grad()\n",
    "            # Convert labels to Long type\n",
    "        labels = labels.long()\n",
    "        \n",
    "        # Forward pass\n",
    "        outputs = model(images)\n",
    "        loss = criterion(outputs, labels)\n",
    "        \n",
    "        # Backward pass and optimization\n",
    "        loss.backward()\n",
    "        optimizer.step()\n",
    "        \n",
    "        running_loss += loss.item()\n",
    "    \n",
    "    # Validation step\n",
    "    model.eval()\n",
    "    val_loss = 0.0\n",
    "    correct = 0\n",
    "    total = 0\n",
    "    with torch.no_grad():\n",
    "        for images, labels in val_loader:\n",
    "            labels = labels.long()\n",
    "\n",
    "            outputs = model(images)\n",
    "            loss = criterion(outputs, labels)\n",
    "            val_loss += loss.item()\n",
    "            _, predicted = torch.max(outputs, 1)\n",
    "            total += labels.size(0)\n",
    "            correct += (predicted == labels).sum().item()\n",
    "    \n",
    "    print(f\"Epoch {epoch+1}/{epochs}, Training Loss: {running_loss/len(train_loader):.4f}, Validation Loss: {val_loss/len(val_loader):.4f}, Validation Accuracy: {100 * correct / total:.2f}%\")\n"
   ]
  },
  {
   "cell_type": "code",
   "execution_count": 32,
   "id": "02e8811d",
   "metadata": {},
   "outputs": [],
   "source": [
    "import torch.optim as optim\n",
    "\n",
    "\n",
    "loss_fn = nn.CrossEntropyLoss()\n",
    "optimizer = optim.Adam(model.parameters(), lr = 0.0001)"
   ]
  },
  {
   "cell_type": "code",
   "execution_count": 34,
   "id": "1d0ff3ed",
   "metadata": {},
   "outputs": [
    {
     "name": "stdout",
     "output_type": "stream",
     "text": [
      "Size: torch.Size([2, 64, 8, 8])\n",
      "Output shape: torch.Size([2, 10])\n",
      "Output logits:\n",
      "[[-0.04889199  0.13756183 -0.07870828 -0.09886788  0.10629128 -0.05245399\n",
      "   0.05378672 -0.01691845  0.05210052 -0.13087699]\n",
      " [-0.02653929 -0.07995768 -0.15032569  0.11647131  0.3056151   0.13593486\n",
      "  -0.23364216  0.14802805  0.02721573 -0.16597223]]\n",
      "Output probabilities:\n",
      "[[0.09560831 0.11520505 0.0927997  0.09094763 0.11165827 0.09526835\n",
      "  0.10594694 0.09871464 0.10576845 0.08808258]\n",
      " [0.0953796  0.09041826 0.0842744  0.11004344 0.1329561  0.11220627\n",
      "  0.0775375  0.11357143 0.10064702 0.08296607]]\n"
     ]
    }
   ],
   "source": [
    "# Test the forward pass with dummy data\n",
    "out = model(torch.randn(2, 1, 32, 32, device=device))\n",
    "print(\"Output shape:\", out.size())\n",
    "print(f\"Output logits:\\n{out.detach().cpu().numpy()}\")\n",
    "print(f\"Output probabilities:\\n{out.softmax(1).detach().cpu().numpy()}\")"
   ]
  },
  {
   "cell_type": "code",
   "execution_count": null,
   "id": "f2febf5a",
   "metadata": {},
   "outputs": [
    {
     "ename": "NameError",
     "evalue": "name 'train_set' is not defined",
     "output_type": "error",
     "traceback": [
      "\u001b[1;31m---------------------------------------------------------------------------\u001b[0m",
      "\u001b[1;31mNameError\u001b[0m                                 Traceback (most recent call last)",
      "Cell \u001b[1;32mIn[35], line 4\u001b[0m\n\u001b[0;32m      1\u001b[0m \u001b[38;5;28;01mfrom\u001b[39;00m \u001b[38;5;21;01mtorch\u001b[39;00m\u001b[38;5;21;01m.\u001b[39;00m\u001b[38;5;21;01mutils\u001b[39;00m\u001b[38;5;21;01m.\u001b[39;00m\u001b[38;5;21;01mdata\u001b[39;00m \u001b[38;5;28;01mimport\u001b[39;00m TensorDataset, DataLoader\n\u001b[1;32m----> 4\u001b[0m train_loader \u001b[38;5;241m=\u001b[39m DataLoader(\u001b[43mtrain_set\u001b[49m, batch_size\u001b[38;5;241m=\u001b[39mbatch_size, shuffle\u001b[38;5;241m=\u001b[39m\u001b[38;5;28;01mTrue\u001b[39;00m, num_workers\u001b[38;5;241m=\u001b[39m\u001b[38;5;241m0\u001b[39m, drop_last\u001b[38;5;241m=\u001b[39m\u001b[38;5;28;01mFalse\u001b[39;00m)\n",
      "\u001b[1;31mNameError\u001b[0m: name 'train_set' is not defined"
     ]
    }
   ],
   "source": [
    "from torch.utils.data import  DataLoader\n",
    "\n",
    "\n",
    "train_loader = DataLoader(Train_set, batch_size=batch_size, shuffle=True, num_workers=0, drop_last=False)\n"
   ]
  },
  {
   "cell_type": "code",
   "execution_count": null,
   "id": "4155e4a1",
   "metadata": {},
   "outputs": [],
   "source": [
    "num_epochs = 2\n",
    "validation_every_steps = 500\n",
    "\n",
    "step = 0\n",
    "model.train()\n",
    "\n",
    "train_accuracies = []\n",
    "valid_accuracies = []\n",
    "\n",
    "for epoch in range(num_epochs):\n",
    "\n",
    "    train_accuracies_batches = []\n",
    "\n",
    "    for inputs, targets in train_loader:\n",
    "        inputs, targets = inputs.to(device), targets.to(device)\n",
    "\n",
    "        output = model(inputs)\n",
    "        loss = loss_fn(output, targets)\n",
    "        optimizer.zero_grad()\n",
    "        loss.backward()\n",
    "        optimizer.step()\n",
    "\n",
    "        # Increment step counter\n",
    "        step += 1\n",
    "\n",
    "        # Compute accuracy.\n",
    "        predictions = output.max(1)[1]\n",
    "        train_accuracies_batches.append(accuracy(targets, predictions))\n",
    "\n",
    "        if step % validation_every_steps == 0:\n",
    "\n",
    "            # Append average training accuracy to list.\n",
    "            train_accuracies.append(np.mean(train_accuracies_batches))\n",
    "\n",
    "            train_accuracies_batches = []\n",
    "\n",
    "            # Compute accuracies on validation set.\n",
    "            valid_accuracies_batches = []\n",
    "            with torch.no_grad():\n",
    "                model.eval()\n",
    "                for inputs, targets in test_loader:\n",
    "                    inputs, targets = inputs.to(device), targets.to(device)\n",
    "                    output = model(inputs)\n",
    "                    loss = loss_fn(output, targets)\n",
    "\n",
    "                    predictions = output.max(1)[1]\n",
    "\n",
    "                    # Multiply by len(x) because the final batch of DataLoader may be smaller (drop_last=False).\n",
    "                    valid_accuracies_batches.append(accuracy(targets, predictions) * len(inputs))\n",
    "\n",
    "                model.train()\n",
    "\n",
    "            # Append average validation accuracy to list.\n",
    "            valid_accuracies.append(np.sum(valid_accuracies_batches) / len(test_set))\n",
    "\n",
    "            print(f\"Step {step:<5}   training accuracy: {train_accuracies[-1]}\")\n",
    "            print(f\"             test accuracy: {valid_accuracies[-1]}\")\n",
    "\n",
    "print(\"Finished training.\")"
   ]
  }
 ],
 "metadata": {
  "kernelspec": {
   "display_name": "DeepLearning",
   "language": "python",
   "name": "deeplearning"
  },
  "language_info": {
   "codemirror_mode": {
    "name": "ipython",
    "version": 3
   },
   "file_extension": ".py",
   "mimetype": "text/x-python",
   "name": "python",
   "nbconvert_exporter": "python",
   "pygments_lexer": "ipython3",
   "version": "3.10.15"
  }
 },
 "nbformat": 4,
 "nbformat_minor": 5
}
